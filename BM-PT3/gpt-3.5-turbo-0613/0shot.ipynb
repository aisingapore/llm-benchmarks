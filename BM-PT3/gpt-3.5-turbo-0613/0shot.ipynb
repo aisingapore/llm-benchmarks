{
 "cells": [
  {
   "cell_type": "code",
   "execution_count": 1,
   "metadata": {},
   "outputs": [],
   "source": [
    "from tqdm import tqdm\n",
    "import os"
   ]
  },
  {
   "cell_type": "code",
   "execution_count": 2,
   "metadata": {},
   "outputs": [],
   "source": [
    "apikey = ''"
   ]
  },
  {
   "cell_type": "code",
   "execution_count": 3,
   "metadata": {},
   "outputs": [],
   "source": [
    "import requests\n",
    "\n",
    "def curl(value):\n",
    "    headers = {\n",
    "        'Content-Type': 'application/json',\n",
    "        'api-key': apikey,\n",
    "    }\n",
    "\n",
    "    params = {\n",
    "        'api-version': '2023-03-15-preview',\n",
    "    }\n",
    "\n",
    "    json_data = {\n",
    "        'messages': [\n",
    "            {'role': 'system', 'content':'answer only, no need to explain'},\n",
    "            {\n",
    "                'role': 'user',\n",
    "                'content': value,\n",
    "            },\n",
    "        ],\n",
    "        'max_tokens': 100,\n",
    "        'temperature': 0,\n",
    "    }\n",
    "\n",
    "    response = requests.post(\n",
    "        'https://nous.openai.azure.com/openai/deployments/nous/chat/completions',\n",
    "        params=params,\n",
    "        headers=headers,\n",
    "        json=json_data,\n",
    "        timeout = 120,\n",
    "    )\n",
    "    \n",
    "    return response"
   ]
  },
  {
   "cell_type": "code",
   "execution_count": 4,
   "metadata": {},
   "outputs": [],
   "source": [
    "with open('BM-A-pt3') as fopen:\n",
    "    text = fopen.read()\n",
    "    \n",
    "questions = []\n",
    "for t in text.split('no: ')[1:]:\n",
    "    t = t.strip()\n",
    "    no = t.split('\\n')[0]\n",
    "    objektif = t.split('objektif: ')[1].split('\\n')[0]\n",
    "    soalan = t.split('soalan:')[1].split('jawapan:')[0].strip()\n",
    "    jawapan = t.split('jawapan: ')[1].split(',')[0].strip()\n",
    "    data = {\n",
    "        'no': no,\n",
    "        'objektif': objektif,\n",
    "        'soalan': soalan,\n",
    "        'jawapan': jawapan,\n",
    "    }\n",
    "    questions.append(data)"
   ]
  },
  {
   "cell_type": "code",
   "execution_count": 5,
   "metadata": {},
   "outputs": [
    {
     "data": {
      "text/plain": [
       "[{'no': '1',\n",
       "  'objektif': 'Lengkapkan ayat-ayat yang berikut dengan memilih jawapan yang paling sesuai.',\n",
       "  'soalan': 'Para ___ tanah air telah dihantar ke negara Jepun untuk membantu mangsa gempa bumi dan tsunami.\\nA. hartawan\\nB. dermawan\\nC. bangsawan\\nD. sukarelawan',\n",
       "  'jawapan': 'D'},\n",
       " {'no': '2',\n",
       "  'objektif': 'Lengkapkan ayat-ayat yang berikut dengan memilih jawapan yang paling sesuai.',\n",
       "  'soalan': 'Kebanyakan barang yang disimpan di dalam stor itu telah rosak ____ tikus.\\nA. digerit\\nB. digigit\\nC. dikesip\\nD. diketip',\n",
       "  'jawapan': 'A'},\n",
       " {'no': '3',\n",
       "  'objektif': 'Lengkapkan ayat-ayat yang berikut dengan memilih jawapan yang paling sesuai.',\n",
       "  'soalan': 'Shafiq cuba mengubah kedudukan meja kayu itu ___ ruang tamu ___ ruang dapur rumahnya.\\nA. dari ... ke\\nB. dari ... kepada\\nC. daripada ... ke\\nD. daripada ... kepada',\n",
       "  'jawapan': 'A'},\n",
       " {'no': '4',\n",
       "  'objektif': 'Ayat-ayat di bawah mungkin betul dan mungkin salah. Jika terdapat kesalahan, kesalahan itu telah ditandakan dengan A, B atau C dan jika tiada kesalahan telah ditandakan D.',\n",
       "  'soalan': 'Kemunculan budaya K-Pop menyebabkan adat [ketimuran](A) semakin dilupakan oleh [setengah-setengah](B) Generasi Y [pada](C) masa ini.\\nA. ketimuran\\nB. setengah-setengah\\nC. pada\\nD. tiada kesalahan',\n",
       "  'jawapan': 'D'},\n",
       " {'no': '5',\n",
       "  'objektif': 'Ayat-ayat di bawah mungkin betul dan mungkin salah. Jika terdapat kesalahan, kesalahan itu telah ditandakan dengan A, B atau C dan jika tiada kesalahan telah ditandakan D.',\n",
       "  'soalan': 'Masyarakat telah melakukan pelbagai (A) cara untuk awet (B) makanan supaya (C) lebih tahan lama.\\nA. pelbagai\\nB. awet\\nC. supaya\\nD. tiada kesalahan',\n",
       "  'jawapan': 'B'},\n",
       " {'no': '6',\n",
       "  'objektif': 'Pilih ayat-ayat yang menggunakan perkataan dalam kurungan dengan betul.',\n",
       "  'soalan': 'I. Husin (memikul) baldi yang berisi air untuk dibawa pulang ke rumahnya kerana bekalan air terputus.\\nII. Pihak ibu bapa diseru supaya (memikul) tanggungjawab mendidik anak-anak mereka dengan sempurna.\\nIII. Setiap rakyat hendaklah (memikul) hasrat kerajaan dalam usaha memperkukuh perpaduan kaum.\\nIV. Pasukan keselamatan (memikul) senjata semasa acara perbarisan sambutan Hari Pahlawan.\\n\\nA. I dan II sahaja\\nB. III dan IV sahaja\\nC. I, II, dan III sahaja\\nD. II, III, dan IV sahaja',\n",
       "  'jawapan': 'D'},\n",
       " {'no': '7',\n",
       "  'objektif': 'Pilih ayat-ayat yang menggunakan perkataan di dalam kurungan dengan betul.',\n",
       "  'soalan': 'I. Puan Salmiah suka memakai pakaian berwarna (cerah) ketika hadir ke majlis rasml.\\nII. Menurut Jabatan Meteorologi, cuaca pada hari esok diramal (cerah).\\nIII. Pelajar berdisiplin mempunyai masa depan yang (cerah).\\nIV. Ramai pelajar gemar berkawan dengan Hasan kerana hatinya yang (cerah).\\n\\nA. I dan II sahaja\\nB. III dan IV sahaja\\nC. I, II, dan III sahaja\\nD. II, III, dan IV sahaja',\n",
       "  'jawapan': 'C'},\n",
       " {'no': '8',\n",
       "  'objektif': 'Bahagian yang di dalam kurungan dalam ayat-ayat yang berikut mungkin mengandungi kesalahan bahasa dan mungkin juga tidak. Tandakan sama ada A, B atau C jika ayat itu mengandungi kesalahan dan tandakan D jika tiada kesalahan.',\n",
       "  'soalan': 'Halimah percaya (percaya benar) anaknya tidak terbabit dengan tuduhan jenayah kolar putih.\\nA. sungguh percaya benar\\nB. teramat percaya benar\\nC. sangat percaya benar\\nD. percaya benar',\n",
       "  'jawapan': 'D'},\n",
       " {'no': '9',\n",
       "  'objektif': 'Bahagian yang di dalam kurungan dalam ayat-ayat yang berikut mungkin mengandungi kesalahan bahasa dan mungkin juga tidak. Tandakan sama ada A, B atau C jika ayat itu mengandungi kesalahan dan tandakan D jika tiada kesalahan.',\n",
       "  'soalan': 'Jabatankuasa Paralimpik Asia telah (menganugerahkan atlet paralimpik) negara, Mohamad Ridzuan Puzi sebagai Atlet Para Terbaik Lelaki Asia.\\nA. anugerahkan atlet paralimpik\\nB. menganugerah atlet paralimpik\\nC. menganugerahi atlet paralimpik\\nD. menganugerahkan atlet paralimpik',\n",
       "  'jawapan': 'C'},\n",
       " {'no': '10',\n",
       "  'objektif': 'Pilih ayat yang mempunyai maksud yang sama atau maksud yang paling hampir dengan ayat soalan.',\n",
       "  'soalan': 'Pencemaran bahasa dapat dielakkan sekiranya semua pihak menggunakan bahasa Melayu dengan betul.\\nA. Bahasa Melayu yang digunakan dengan betul dapat mengelakkan pencemaran bahasa.\\nB. Penggunaan bahasa Melayu yang betul dapat mengelakkan pencemaran bahasa semua pihak.\\nC. Semua pihak menggunakan bahasa Melayu dengan betul sekiranya pencemaran bahasa dapat dielakkan.\\nD. Sekiranya semua pihak menggunakan bahasa Melayu dengan betul, pencemaran bahasa dapat dielakkan.',\n",
       "  'jawapan': 'D'},\n",
       " {'no': '11',\n",
       "  'objektif': 'Pilih ayat yang mempunyai maksud yang sama atau maksud yang paling hampir dengan ayat soalan.',\n",
       "  'soalan': 'Sebagai warganegara Malaysia, kita perlu berpegang teguh pada prinsip Rukun Negara agar keamanan dan kemakmuran tanah air dapat dikekalkan.\\nA. Keamanan dan kemakmuran tanah air dapat dikekalkan dengan adanya prinsip teguh Rukun Negara.\\nB. Rukun Negara merupakan pegangan teguh warganegara Malaysia untuk mengekaikan keamanan dan kemakmuran tanah air.\\nC. Kita perlu berpegang teguh pada prinsip Rukun Negara sebagai warganegara Malaysia agar keamanan dan kemakmuran tanah air dapat dikekalkan.\\nD. Jika kita berpegang pada prinsip Rukun Negara keamanan dan kemakmuran negara mungkin akan dapat dikekalkan.',\n",
       "  'jawapan': 'C\\nasal soalan: MRSM 2019 Percubaan PT3'},\n",
       " {'no': '12',\n",
       "  'objektif': 'Pilih ayat-ayat yang betul.',\n",
       "  'soalan': 'I. Novel Salina karya Sasterawan Negara A. Samad Said telah dibaca oleh saya.\\nII. Pak Abu menceritakan tentang pengalamannya menentang komunis.\\nIII. Layang-layang itu tersangkut di tiang telefon kerana diterbangkan angin.\\nIV. Pekerja baharu kilang itu mempelajari cara pengendalian mesin daripada ketuanya.\\n\\nA. I dan II sahaja\\nB. III dan IV sahaja\\nC. I, II, dan III sahaja\\nD. II, III, dan IV sahaja',\n",
       "  'jawapan': 'B'},\n",
       " {'no': '13',\n",
       "  'objektif': 'Pilih ayat-ayat yang betul.',\n",
       "  'soalan': 'I. Encik Ayob gembira apabila anaknya bersuamikan dengan lelaki pilihannya.\\nII. \"Patik menjunjung kasih atas perkenan Tuanku menyempumakan upacara ini,\" kata pengacara majiis.\\nIII. Pelajar saling berlukar pendapat berkaitan isu yang diberi oleh guru.\\nIV. Jalan raya di Malaysia adalah antara yang paling baik di rantau Asia.\\n\\nA. I dan II sahaja\\nB. III dan IV sahaja\\nC. I, II, dan III sahaja\\nD. II, III, dan IV sahaja',\n",
       "  'jawapan': 'D'},\n",
       " {'no': '14',\n",
       "  'objektif': 'Pilih peribahasa atau maksud peribahasa yang paling sesuai.',\n",
       "  'soalan': 'Ayril benar-benar berazamuntuk memenangi pertandingan itu walaupun menyedari bahawa dia terpaksa bersaing dengan peserta-peserta lain yang hebat.\\nPeribahasa yang sesuai dengan pernyataan di atas ialah\\n\\nA. ada hati\\nB. bulat hati\\nC. besar hati\\nD. berat hati',\n",
       "  'jawapan': 'B'},\n",
       " {'no': '15',\n",
       "  'objektif': 'Pilih peribahasa atau maksud peribahasa yang paling sesuai.',\n",
       "  'soalan': 'Walaupun sudah beberapa kali dinasihatkan oleh guru, Aiman tetap malas mengulang kaji peiajarannya.\\nPeribahasa yang sesuai dengan pernyataan di atas ialah\\n\\nA. melepaskan batuk di tangga\\nB. mencurah air ke daun keladi\\nC. alang-alang berdakwat biar hitam\\nD. pendayung sudah di tangan, perahu sudah di air',\n",
       "  'jawapan': 'B'},\n",
       " {'no': '16',\n",
       "  'objektif': 'Baca petikan di bawah ini dengan teliti, kemudian jawab soalan-soalan yang berikut.',\n",
       "  'soalan': 'Demam denggi merupakan penyakit bawaan nyamuk Aedes yang menyebabkan\\nvirus demam denggi kepada manusia. Kita sering kali alpa dan memandang enteng\\ntentang wabak denggi sehingga ada dalam kalangan ahli keluarga kita dijangkiti demam\\ndenggi.\\nAcap kali kita mendengar bahawa pesakit yang mengalami demam denggi bagi kali\\nkedua beldepan dengan risiko kematian. Hal ini demikian kerana antibodi badan mangsa\\nsudah lemah dan tidak mampu melawan serangan virus denggi. Virus ini disebarkan oleh\\nnyamuk aedes betina. Hakikatnya, risiko kematian sentiasa ada bagi setiap pesakit\\ndemam denggi walaupun kalipertama dijangkiti virus berkenaan.\\nDemam denggi bermuia dengan pesakit mengalami demam panas diikuti dengan\\nsimptom-simptom lain seperti sakit kepala, sakit sendi dan sakit pada bahagian beiakang\\nmata serta ruam merah di kulit. Apabila platlet darah pesakit demam denggr semakin\\nberkurangan secara berterusan, tekanan darah akan menjadi rendah, denlutan nadi juga\\nsemakin laju dan akhirnya berlaku kematian.\\nDemi memastikan keluarga bebas daripada demam denggi, kita mestilah\\nmemastikan keselamatan di dalam rumah. Sebagai contoh, tingkap dan pintu mestilah\\nditutup menjelang waktu senja. Selain itu, kita juga boleh menggunakan lingkaran\\nelektrik atau penyerap cecair bagi menghalang serangga seperti nyamuk aedes masuk ke\\ndalam rumah.\\n\\n(Dipetik dan diubah suai daripada \"Demam Denggi Berisiko Maut\" oleh Nor \\'Asyikin Mat Hayin, Harian Metro, 6 Januari 2019)\\n\\nApakah maksud rangkai kata memandang enteng?\\n\\nA. mengambil mudah\\nB. membuat senang\\nC. menjadi remeh\\nD. melihat renyah',\n",
       "  'jawapan': 'A'},\n",
       " {'no': '17',\n",
       "  'objektif': 'Baca petikan di bawah ini dengan teliti, kemudian jawab soalan-soalan yang berikut.',\n",
       "  'soalan': 'Demam denggi merupakan penyakit bawaan nyamuk Aedes yang menyebabkan\\nvirus demam denggi kepada manusia. Kita sering kali alpa dan memandang enteng\\ntentang wabak denggi sehingga ada dalam kalangan ahli keluarga kita dijangkiti demam\\ndenggi.\\nAcap kali kita mendengar bahawa pesakit yang mengalami demam denggi bagi kali\\nkedua beldepan dengan risiko kematian. Hal ini demikian kerana antibodi badan mangsa\\nsudah lemah dan tidak mampu melawan serangan virus denggi. Virus ini disebarkan oleh\\nnyamuk aedes betina. Hakikatnya, risiko kematian sentiasa ada bagi setiap pesakit\\ndemam denggi walaupun kalipertama dijangkiti virus berkenaan.\\nDemam denggi bermuia dengan pesakit mengalami demam panas diikuti dengan\\nsimptom-simptom lain seperti sakit kepala, sakit sendi dan sakit pada bahagian beiakang\\nmata serta ruam merah di kulit. Apabila platlet darah pesakit demam denggr semakin\\nberkurangan secara berterusan, tekanan darah akan menjadi rendah, denlutan nadi juga\\nsemakin laju dan akhirnya berlaku kematian.\\nDemi memastikan keluarga bebas daripada demam denggi, kita mestilah\\nmemastikan keselamatan di dalam rumah. Sebagai contoh, tingkap dan pintu mestilah\\nditutup menjelang waktu senja. Selain itu, kita juga boleh menggunakan lingkaran\\nelektrik atau penyerap cecair bagi menghalang serangga seperti nyamuk aedes masuk ke\\ndalam rumah.\\n\\n(Dipetik dan diubah suai daripada \"Demam Denggi Berisiko Maut\" oleh Nor \\'Asyikin Mat Hayin, Harian Metro, 6 Januari 2019)\\n\\nMengapakah pesakit yang mengalami demam denggi bagi kali kedua berdepan dengan risiko kematian?\\n\\nA. Risiko kematian sentiasa ada bagi setiap pesakit yang diserang virus denggi.\\nB. Pesakit pernah menghidap demam denggi dan simptom-simptom lain.\\nC. Antibodi badan pesakit sudah lemah dan tidak mampu melawan serangan virus denggi.\\nD. Pesakit telah mengalami demam panas yang berpanjangan dan patiet darah pesakit semakin berkurangan.',\n",
       "  'jawapan': 'C'},\n",
       " {'no': '18',\n",
       "  'objektif': 'Baca petikan di bawah ini dengan teliti, kemudian jawab soalan-soalan yang berikut.',\n",
       "  'soalan': 'Demam denggi merupakan penyakit bawaan nyamuk Aedes yang menyebabkan\\nvirus demam denggi kepada manusia. Kita sering kali alpa dan memandang enteng\\ntentang wabak denggi sehingga ada dalam kalangan ahli keluarga kita dijangkiti demam\\ndenggi.\\nAcap kali kita mendengar bahawa pesakit yang mengalami demam denggi bagi kali\\nkedua beldepan dengan risiko kematian. Hal ini demikian kerana antibodi badan mangsa\\nsudah lemah dan tidak mampu melawan serangan virus denggi. Virus ini disebarkan oleh\\nnyamuk aedes betina. Hakikatnya, risiko kematian sentiasa ada bagi setiap pesakit\\ndemam denggi walaupun kalipertama dijangkiti virus berkenaan.\\nDemam denggi bermuia dengan pesakit mengalami demam panas diikuti dengan\\nsimptom-simptom lain seperti sakit kepala, sakit sendi dan sakit pada bahagian beiakang\\nmata serta ruam merah di kulit. Apabila platlet darah pesakit demam denggr semakin\\nberkurangan secara berterusan, tekanan darah akan menjadi rendah, denlutan nadi juga\\nsemakin laju dan akhirnya berlaku kematian.\\nDemi memastikan keluarga bebas daripada demam denggi, kita mestilah\\nmemastikan keselamatan di dalam rumah. Sebagai contoh, tingkap dan pintu mestilah\\nditutup menjelang waktu senja. Selain itu, kita juga boleh menggunakan lingkaran\\nelektrik atau penyerap cecair bagi menghalang serangga seperti nyamuk aedes masuk ke\\ndalam rumah.\\n\\n(Dipetik dan diubah suai daripada \"Demam Denggi Berisiko Maut\" oleh Nor \\'Asyikin Mat Hayin, Harian Metro, 6 Januari 2019)\\n\\nBerikut merupakan gejala-gejala demam denggi berdasarkan petikan kecuali\\n\\nA. ruam merah di kulit\\nB. demam selesema\\nC. sakit kepala\\nD. sakit sendi',\n",
       "  'jawapan': 'B'},\n",
       " {'no': '19',\n",
       "  'objektif': 'Baca petikan di bawah ini dengan teliti, kemudian jawab soalan-soalan yang berikut.',\n",
       "  'soalan': 'Demam denggi merupakan penyakit bawaan nyamuk Aedes yang menyebabkan\\nvirus demam denggi kepada manusia. Kita sering kali alpa dan memandang enteng\\ntentang wabak denggi sehingga ada dalam kalangan ahli keluarga kita dijangkiti demam\\ndenggi.\\nAcap kali kita mendengar bahawa pesakit yang mengalami demam denggi bagi kali\\nkedua beldepan dengan risiko kematian. Hal ini demikian kerana antibodi badan mangsa\\nsudah lemah dan tidak mampu melawan serangan virus denggi. Virus ini disebarkan oleh\\nnyamuk aedes betina. Hakikatnya, risiko kematian sentiasa ada bagi setiap pesakit\\ndemam denggi walaupun kalipertama dijangkiti virus berkenaan.\\nDemam denggi bermuia dengan pesakit mengalami demam panas diikuti dengan\\nsimptom-simptom lain seperti sakit kepala, sakit sendi dan sakit pada bahagian beiakang\\nmata serta ruam merah di kulit. Apabila platlet darah pesakit demam denggr semakin\\nberkurangan secara berterusan, tekanan darah akan menjadi rendah, denlutan nadi juga\\nsemakin laju dan akhirnya berlaku kematian.\\nDemi memastikan keluarga bebas daripada demam denggi, kita mestilah\\nmemastikan keselamatan di dalam rumah. Sebagai contoh, tingkap dan pintu mestilah\\nditutup menjelang waktu senja. Selain itu, kita juga boleh menggunakan lingkaran\\nelektrik atau penyerap cecair bagi menghalang serangga seperti nyamuk aedes masuk ke\\ndalam rumah.\\n\\n(Dipetik dan diubah suai daripada \"Demam Denggi Berisiko Maut\" oleh Nor \\'Asyikin Mat Hayin, Harian Metro, 6 Januari 2019)\\n\\nLangkah yang perlu diambil untuk mengelakkan demam denggi\\n\\nA. menggunakan cecair antidenggi\\nB. menutup tingkap dan pintu pada waktu malam\\nC. menggunakan lingkaran elektrik\\nD. memastikan keselamatan di dalam dan di luar rumah',\n",
       "  'jawapan': 'C'},\n",
       " {'no': '20',\n",
       "  'objektif': 'Baca petikan di bawah ini dengan teliti, kemudian jawab soalan-soalan yang berikut.',\n",
       "  'soalan': 'Demam denggi merupakan penyakit bawaan nyamuk Aedes yang menyebabkan\\nvirus demam denggi kepada manusia. Kita sering kali alpa dan memandang enteng\\ntentang wabak denggi sehingga ada dalam kalangan ahli keluarga kita dijangkiti demam\\ndenggi.\\nAcap kali kita mendengar bahawa pesakit yang mengalami demam denggi bagi kali\\nkedua beldepan dengan risiko kematian. Hal ini demikian kerana antibodi badan mangsa\\nsudah lemah dan tidak mampu melawan serangan virus denggi. Virus ini disebarkan oleh\\nnyamuk aedes betina. Hakikatnya, risiko kematian sentiasa ada bagi setiap pesakit\\ndemam denggi walaupun kalipertama dijangkiti virus berkenaan.\\nDemam denggi bermuia dengan pesakit mengalami demam panas diikuti dengan\\nsimptom-simptom lain seperti sakit kepala, sakit sendi dan sakit pada bahagian beiakang\\nmata serta ruam merah di kulit. Apabila platlet darah pesakit demam denggr semakin\\nberkurangan secara berterusan, tekanan darah akan menjadi rendah, denlutan nadi juga\\nsemakin laju dan akhirnya berlaku kematian.\\nDemi memastikan keluarga bebas daripada demam denggi, kita mestilah\\nmemastikan keselamatan di dalam rumah. Sebagai contoh, tingkap dan pintu mestilah\\nditutup menjelang waktu senja. Selain itu, kita juga boleh menggunakan lingkaran\\nelektrik atau penyerap cecair bagi menghalang serangga seperti nyamuk aedes masuk ke\\ndalam rumah.\\n\\n(Dipetik dan diubah suai daripada \"Demam Denggi Berisiko Maut\" oleh Nor \\'Asyikin Mat Hayin, Harian Metro, 6 Januari 2019)\\n\\nMesej yang hendak disampaikan dalam petikan di atas ialah\\n\\nA. demam denggi boleh membawa maut\\nB. peranan keluarga penting dalam mencegah demam denggi\\nC. kesihatan amat penting untuk mengelakkan demam denggi\\nD. mencegah demam denggi lebih baik daripada merawat',\n",
       "  'jawapan': 'A'},\n",
       " {'no': '21',\n",
       "  'objektif': 'Lengkapkan ayat-ayat yang berikut dengan memilih jawapan yang paling sesuai.',\n",
       "  'soalan': 'Pelbagai usaha sedang dilakukan oleh kerajaan Myanmar ke arah _____ kehidupan rakyatnya yang sebelum ini sentiasa terlibat dalam peperangan saudara.\\nA. Tenteram\\nB. ditenteramkan\\nC. Penenteraman\\nD. Ketenteraman',\n",
       "  'jawapan': 'C'},\n",
       " {'no': '22',\n",
       "  'objektif': 'Lengkapkan ayat-ayat yang berikut dengan memilih jawapan yang paling sesuai.',\n",
       "  'soalan': 'Perabot yang dihasilkan ____ kayu jati itu lebih cantik dan tahan lebih lama.\\nA. dari\\nB. bagi\\nC. untuk\\nD. daripada',\n",
       "  'jawapan': 'D'},\n",
       " {'no': '23',\n",
       "  'objektif': 'Lengkapkan ayat-ayat yang berikut dengan memilih jawapan yang paling sesuai.',\n",
       "  'soalan': 'Pegawai yang disyaki ____ itu sedang disoal siasat oleh pihak Suruhanjaya Pencegahan Rasuah Malaysia (SPRM).\\nA. makan hati\\nB. makan gaji\\nC. makan suap\\nD. makan angin',\n",
       "  'jawapan': 'C'},\n",
       " {'no': '24',\n",
       "  'objektif': 'Ayat-ayat di bawah mungkin betul dan mungkin salah. Jika terdapat kesalahan, kesalahan itu telah ditandakan dengan A, B atau C dan jika tiada kesalahan telah ditandakan D.',\n",
       "  'soalan': '[Ahli sains-ahli sains](A) negara telah menjalankan [uji kaji](B) terhadap struktur tanah yang terdapat di [Kutub Utara](C) pada penghujung tahun ini.\\nA. Ahli sains-ahli sains\\nB. uji kaji\\nC. Kutub Utara\\nD. tiada kesalahan',\n",
       "  'jawapan': 'A'},\n",
       " {'no': '25',\n",
       "  'objektif': 'Ayat-ayat di bawah mungkin betul dan mungkin salah. Jika terdapat kesalahan, kesalahan itu telah ditandakan dengan A, B atau C dan jika tiada kesalahan telah ditandakan D.',\n",
       "  'soalan': 'Tuk Wan menceritakan [tentang](A) pengalamannya [semasa](B) menjadi buruh paksa Jepun [di](C) Siam.\\nA. tentang\\nB. semasa\\nC. di\\nD. tiada kesalahan',\n",
       "  'jawapan': 'A'},\n",
       " {'no': '26',\n",
       "  'objektif': 'Pilih ayat-ayat yang menggunakan perkataan dalam kurungan dengan betul.',\n",
       "  'soalan': 'I. (Mendalam) soal ini, dia tidak harus dipersalahkan.\\nII. Masalah itu dibincangkan secara (mendalam) antara empat mata.\\nIII. Fikirlah secara (mendalam) sebelum membuat sebarang tindakan.\\nIV.Air perigi semakin (mendalam) setelah hujan turun tanpa henti.\\n\\nA. I dan II sahaja\\nB. I dan III sahaja\\nC. II dan III sahaja\\nD. III dan IV sahaja',\n",
       "  'jawapan': 'C'},\n",
       " {'no': '27',\n",
       "  'objektif': 'Pilih ayat-ayat yang menggunakan perkataan dalam kurungan dengan betul.',\n",
       "  'soalan': 'I. Jasa Cikgu Zainab tetap (segar) dalam ingatan anak-anak muridnya.\\nII.Tulisan Fahmi (segar) dan memudahkan guru kelas untuk membacanya.\\nIII. Udara di Tanah Tinggi Cameron itu sungguh dingin dan (segar).\\nIV. Pokok-pokok yang yang ditanam oleh ayah di kebun sungguh (segar).\\n\\nA. I dan II sahaja\\nB. I dan III sahaja\\nC. II dan III sahaja\\nD. III dan IV sahaja',\n",
       "  'jawapan': 'B'},\n",
       " {'no': '28',\n",
       "  'objektif': 'Bahagian yang di dalam kurungan dalam ayat-ayat yang berikut mungkin mengandungi kesalahan bahasa dan mungkin juga tidak. Tandakan sama ada A, B atau C jika ayat itu mengandungi kesalahan dan tandakan D jika tiada kesalahan.',\n",
       "  'soalan': 'Rahimi (bertanyakan kepada) saya tentang arah ke rumah Azim.\\nA. bertanya saya\\nB. ditanyakan saya\\nC. bertanya kepada saya\\nD. bertanyakan kepada saya',\n",
       "  'jawapan': 'C'},\n",
       " {'no': '29',\n",
       "  'objektif': 'Bahagian yang di dalam kurungan dalam ayat-ayat yang berikut mungkin mengandungi kesalahan bahasa dan mungkin juga tidak. Tandakan sama ada A, B atau C jika ayat itu mengandungi kesalahan dan tandakan D jika tiada kesalahan.',\n",
       "  'soalan': 'Ujian lisan berlangsung selama (satu jam setengah).\\nA. jam satu setengah\\nB. satu setengah jam\\nC. setengah satu jam\\nD. satu jam setengah',\n",
       "  'jawapan': 'D'},\n",
       " {'no': '30',\n",
       "  'objektif': 'Pilih ayat-ayat yang betul.',\n",
       "  'soalan': 'I. Hariz adalah murid tertinggi di sekolahnya.\\nII. Kami keluar dari Raju klinik pada pukul 9.00 malam.\\nIII. Kanak-kanak itu tersenyum gembira apabila ternampak kelibat ayahnya.\\nIV. Semua peserta diminta berkumpul di hadapan pagar sekolah pada pukul 7.00 pagi.\\n\\nA. I dan II sahaja\\nB. II dan III sahaja\\nC. III, dan IV sahaja\\nD. II, III dan IV sahaja',\n",
       "  'jawapan': 'C'},\n",
       " {'no': '31',\n",
       "  'objektif': 'Pilih ayat-ayat yang betul.',\n",
       "  'soalan': 'I. Latihan bola jaring pada petang ini akan dibatalkan jika sekiranya hujan.\\nII. Internet membolehkan pengguna di dunia berhubung antara satu sama dengan lain.\\nIII.Guru-guru perlu menyebarkan maklumat tentang bahaya pencemaran alam kepada murid-murid.\\nIV. Kita hendaklah bijaksana apabila berkomunikasi dengan orang lain untuk\\nmengelakkan konflik.\\n\\nA. I dan II sahaja\\nB. II dan III sahaja\\nC. III, dan IV sahaja\\nD. II, III dan IV sahaja',\n",
       "  'jawapan': 'C'},\n",
       " {'no': '32',\n",
       "  'objektif': 'Pilih peribahasa atau maksud peribahasa yang paling sesuai.',\n",
       "  'soalan': 'Tidak ada seorang pun daripada lima orang anak Encik Majid yang mengikuti jejaknya menjadi peguam. Sebaliknya mereka mempunyai minat dan kecenderungan yang berbeza.\\nKeadaan ini sesuai dengan peribahasa yang berikut kecuali\\n\\nA. lain padang lain belalang.\\nB. rambut sama hitam, hati lain-lain.\\nC. bagaimana acuan begitulah kuihnya.\\nD. banyak udang banyak garam, banyak orang banyak ragam.',\n",
       "  'jawapan': 'C'},\n",
       " {'no': '33',\n",
       "  'objektif': 'Baca petikan di bawah ini dengan teliti, kemudian jawab soalan-soalan yang berikut.',\n",
       "  'soalan': 'Maka diambil padi yang dijemur itu segenggam, lalu disembunyikan butir-butir padi itu di\\ndalam lubang-lubang luka pada tumitnya. Setelah itu ia pun meminta izin dengan baik-\\nbaik untuk pulang ke kampungnya, ke bumi tempat saudaranya yang tetap menantinya.\\nMaka berkatalah induk semangnya, orang kayangan yang masih juga mencurigainya\\nitu, \"Baiklah jikalau kamu ingin pulang ke kampung kamu, akan tetapi, sebelum itu saya\\nakan memeriksa dan menggeledah kamu lebih dahulu. Barangkali ada padi yang\\ndisembunyikan untuk kamu bawa sebagai oleh-oleh ke bumi.\"\\nAnak yatim piatu itu pun menjawab dengan tenangnya, \"Silakan ! Periksalah dengan\\nteliti kalau-kalau ada apa-apa yang saya bawa. Sekarang saya sudah betul-betul jera\\nmengambil apa-apa. Saya sungguh-sungguh sudah bertaubat dan tidak mahu lagi\\nmelakukannya.\"\\nKemudian induk semang berkata, \"Jikalau benar demikian katamu, maka jelaslah bagi\\nkami dan percayalah kami bahawa kamu betul-betul tidak akan mencuri padi kami lagi.\"\\nSetelah induk semang berkata demikian, maka anak yatim piatu itu pun berangkatlah\\nmeninggalkan kayangan. Orang kayangan itu tidak mengetahui sama sekali bahawa anak\\nyatim paitu yang kecil itu ada menyembunyikan padi di dalam lubang-lubang luka pada\\ntumitnya. Akhirnya sampai jugalah anak yatim piatu itu dengan selamat di kampungnya.\\nMaka ia pun dengan segera membuat ladang. Setelah selesai, ditanamnya padi yang\\ndicurinya itu di ladangnya.\\n\\nBagaimana anak yatim piatu itu membawa butir-butir padi bersamanya?\\n\\nA. Mencuri sebutir padi dan melarikan diri\\nB. Meminta izin daripada Induk Semang sebagai oleh-oleh ke bumi\\nC. Menyembunyikan butir-butir padi di dalam lubang luka pada tumitnya\\nD. Menanam padi yang dicuri di lading tanpa pengetahuan orang kayangan',\n",
       "  'jawapan': 'C'},\n",
       " {'no': '34',\n",
       "  'objektif': 'Baca petikan di bawah ini dengan teliti, kemudian jawab soalan-soalan yang berikut.',\n",
       "  'soalan': 'Maka diambil padi yang dijemur itu segenggam, lalu disembunyikan butir-butir padi itu di\\ndalam lubang-lubang luka pada tumitnya. Setelah itu ia pun meminta izin dengan baik-\\nbaik untuk pulang ke kampungnya, ke bumi tempat saudaranya yang tetap menantinya.\\nMaka berkatalah induk semangnya, orang kayangan yang masih juga mencurigainya\\nitu, \"Baiklah jikalau kamu ingin pulang ke kampung kamu, akan tetapi, sebelum itu saya\\nakan memeriksa dan menggeledah kamu lebih dahulu. Barangkali ada padi yang\\ndisembunyikan untuk kamu bawa sebagai oleh-oleh ke bumi.\"\\nAnak yatim piatu itu pun menjawab dengan tenangnya, \"Silakan ! Periksalah dengan\\nteliti kalau-kalau ada apa-apa yang saya bawa. Sekarang saya sudah betul-betul jera\\nmengambil apa-apa. Saya sungguh-sungguh sudah bertaubat dan tidak mahu lagi\\nmelakukannya.\"\\nKemudian induk semang berkata, \"Jikalau benar demikian katamu, maka jelaslah bagi\\nkami dan percayalah kami bahawa kamu betul-betul tidak akan mencuri padi kami lagi.\"\\nSetelah induk semang berkata demikian, maka anak yatim piatu itu pun berangkatlah\\nmeninggalkan kayangan. Orang kayangan itu tidak mengetahui sama sekali bahawa anak\\nyatim paitu yang kecil itu ada menyembunyikan padi di dalam lubang-lubang luka pada\\ntumitnya. Akhirnya sampai jugalah anak yatim piatu itu dengan selamat di kampungnya.\\nMaka ia pun dengan segera membuat ladang. Setelah selesai, ditanamnya padi yang\\ndicurinya itu di ladangnya.\\n\\nMaksud perkataan jera dalam petikan ialah\\n\\nA. Serik\\nB. Ikhlas\\nC. Jujur\\nD. Berani',\n",
       "  'jawapan': 'A'},\n",
       " {'no': '35',\n",
       "  'objektif': 'Baca petikan di bawah ini dengan teliti, kemudian jawab soalan-soalan yang berikut.',\n",
       "  'soalan': 'Maka diambil padi yang dijemur itu segenggam, lalu disembunyikan butir-butir padi itu di\\ndalam lubang-lubang luka pada tumitnya. Setelah itu ia pun meminta izin dengan baik-\\nbaik untuk pulang ke kampungnya, ke bumi tempat saudaranya yang tetap menantinya.\\nMaka berkatalah induk semangnya, orang kayangan yang masih juga mencurigainya\\nitu, \"Baiklah jikalau kamu ingin pulang ke kampung kamu, akan tetapi, sebelum itu saya\\nakan memeriksa dan menggeledah kamu lebih dahulu. Barangkali ada padi yang\\ndisembunyikan untuk kamu bawa sebagai oleh-oleh ke bumi.\"\\nAnak yatim piatu itu pun menjawab dengan tenangnya, \"Silakan ! Periksalah dengan\\nteliti kalau-kalau ada apa-apa yang saya bawa. Sekarang saya sudah betul-betul jera\\nmengambil apa-apa. Saya sungguh-sungguh sudah bertaubat dan tidak mahu lagi\\nmelakukannya.\"\\nKemudian induk semang berkata, \"Jikalau benar demikian katamu, maka jelaslah bagi\\nkami dan percayalah kami bahawa kamu betul-betul tidak akan mencuri padi kami lagi.\"\\nSetelah induk semang berkata demikian, maka anak yatim piatu itu pun berangkatlah\\nmeninggalkan kayangan. Orang kayangan itu tidak mengetahui sama sekali bahawa anak\\nyatim paitu yang kecil itu ada menyembunyikan padi di dalam lubang-lubang luka pada\\ntumitnya. Akhirnya sampai jugalah anak yatim piatu itu dengan selamat di kampungnya.\\nMaka ia pun dengan segera membuat ladang. Setelah selesai, ditanamnya padi yang\\ndicurinya itu di ladangnya.\\n\\nApakah nilai murni yang terdapat dalam petikan prosa tradisional di atas?\\n\\nA. Nilai keikhlasan\\nB. Nilai keberanian\\nC. Nilai kejujuran\\nD. Nilai ketabahan',\n",
       "  'jawapan': 'B'},\n",
       " {'no': '36',\n",
       "  'objektif': 'Baca petikan di bawah ini dengan teliti, kemudian jawab soalan-soalan yang berikut.',\n",
       "  'soalan': 'Maka diambil padi yang dijemur itu segenggam, lalu disembunyikan butir-butir padi itu di\\ndalam lubang-lubang luka pada tumitnya. Setelah itu ia pun meminta izin dengan baik-\\nbaik untuk pulang ke kampungnya, ke bumi tempat saudaranya yang tetap menantinya.\\nMaka berkatalah induk semangnya, orang kayangan yang masih juga mencurigainya\\nitu, \"Baiklah jikalau kamu ingin pulang ke kampung kamu, akan tetapi, sebelum itu saya\\nakan memeriksa dan menggeledah kamu lebih dahulu. Barangkali ada padi yang\\ndisembunyikan untuk kamu bawa sebagai oleh-oleh ke bumi.\"\\nAnak yatim piatu itu pun menjawab dengan tenangnya, \"Silakan ! Periksalah dengan\\nteliti kalau-kalau ada apa-apa yang saya bawa. Sekarang saya sudah betul-betul jera\\nmengambil apa-apa. Saya sungguh-sungguh sudah bertaubat dan tidak mahu lagi\\nmelakukannya.\"\\nKemudian induk semang berkata, \"Jikalau benar demikian katamu, maka jelaslah bagi\\nkami dan percayalah kami bahawa kamu betul-betul tidak akan mencuri padi kami lagi.\"\\nSetelah induk semang berkata demikian, maka anak yatim piatu itu pun berangkatlah\\nmeninggalkan kayangan. Orang kayangan itu tidak mengetahui sama sekali bahawa anak\\nyatim paitu yang kecil itu ada menyembunyikan padi di dalam lubang-lubang luka pada\\ntumitnya. Akhirnya sampai jugalah anak yatim piatu itu dengan selamat di kampungnya.\\nMaka ia pun dengan segera membuat ladang. Setelah selesai, ditanamnya padi yang\\ndicurinya itu di ladangnya.\\n\\nBerikut merupakan perwatakan Anak Yatim Piatu selepas Induk Semang mencurigai dirinya kecuali\\n\\nA. Seorang yang sangat ketakutan\\nB. seorang yang berfikiran terbuka\\nC. seorang yang tidak berputus asa\\nD. seorang yang berusaha untuk menyembunyikan perkara sebenar',\n",
       "  'jawapan': 'A'},\n",
       " {'no': '37',\n",
       "  'objektif': 'Baca petikan sajak di bawah ini dengan teliti, kemudian jawab soalan-soalan yang berikut.',\n",
       "  'soalan': 'Senja di Palang Besi\\nSenja mula menangis\\nremang membongkar sendu\\nmengutus kuntum-kuntum serakan cahaya\\nberlari di celah jambangan bunga dedawai\\nmenari mengikat ramah kekosongan\\ndalam kotak tidur sepi nan pedar hati.\\n\\nPilu wajahmu sang senja\\nyang dulu melakar bahagia\\nkini merayap sayu membelai jemari malam\\ndalam keterbuangan yang merangkum\\ndalam keterasingan yang mencengkam\\ndalam kesakitan yang membungkam.\\n\\nTanpa pasir pantai atau silir angin\\nrentet susun bibir palang besi dingin itu\\nmenjerut resah berteleku dalam hening\\nbernyanyi rakus dalam kelu rasa keterkongkongan\\nmenghantar pergi erti keriuhan\\njauh di balik redup senja yang mula mengundurkan diri\\nbersama riak samudera jiwa bernama kesunyian\\nhukuman terhebat hikayat kemanusiaan.\\n\\nBerikut perasaan penyajak ketika berada di dalam penjara kecuali\\n\\nA. terbuang\\nB. terasing\\nC. sedih\\nD. benci',\n",
       "  'jawapan': 'D'},\n",
       " {'no': '38',\n",
       "  'objektif': 'Baca petikan sajak di bawah ini dengan teliti, kemudian jawab soalan-soalan yang berikut.',\n",
       "  'soalan': 'Senja di Palang Besi\\nSenja mula menangis\\nremang membongkar sendu\\nmengutus kuntum-kuntum serakan cahaya\\nberlari di celah jambangan bunga dedawai\\nmenari mengikat ramah kekosongan\\ndalam kotak tidur sepi nan pedar hati.\\n\\nPilu wajahmu sang senja\\nyang dulu melakar bahagia\\nkini merayap sayu membelai jemari malam\\ndalam keterbuangan yang merangkum\\ndalam keterasingan yang mencengkam\\ndalam kesakitan yang membungkam.\\n\\nTanpa pasir pantai atau silir angin\\nrentet susun bibir palang besi dingin itu\\nmenjerut resah berteleku dalam hening\\nbernyanyi rakus dalam kelu rasa keterkongkongan\\nmenghantar pergi erti keriuhan\\njauh di balik redup senja yang mula mengundurkan diri\\nbersama riak samudera jiwa bernama kesunyian\\nhukuman terhebat hikayat kemanusiaan.\\n\\n\"Senja mula menangis\", Maksud baris sajak di atas ialah\\n\\nA. Penyajak berasa sedih\\nB. Penyajak termenung pada waktu senja\\nC. Penyajak menangis pada waktu senja\\nD. Penyajak kerinduan pada waktu senja',\n",
       "  'jawapan': 'A'},\n",
       " {'no': '39',\n",
       "  'objektif': 'Baca petikan sajak di bawah ini dengan teliti, kemudian jawab soalan-soalan yang berikut.',\n",
       "  'soalan': 'Senja di Palang Besi\\nSenja mula menangis\\nremang membongkar sendu\\nmengutus kuntum-kuntum serakan cahaya\\nberlari di celah jambangan bunga dedawai\\nmenari mengikat ramah kekosongan\\ndalam kotak tidur sepi nan pedar hati.\\n\\nPilu wajahmu sang senja\\nyang dulu melakar bahagia\\nkini merayap sayu membelai jemari malam\\ndalam keterbuangan yang merangkum\\ndalam keterasingan yang mencengkam\\ndalam kesakitan yang membungkam.\\n\\nTanpa pasir pantai atau silir angin\\nrentet susun bibir palang besi dingin itu\\nmenjerut resah berteleku dalam hening\\nbernyanyi rakus dalam kelu rasa keterkongkongan\\nmenghantar pergi erti keriuhan\\njauh di balik redup senja yang mula mengundurkan diri\\nbersama riak samudera jiwa bernama kesunyian\\nhukuman terhebat hikayat kemanusiaan.\\n\\nBerdasarkan sajak di atas mengapakah kita dilarang melakukan kesalahan?\\n\\nA. Mengelakkan kita berasa sedih dan terasing\\nB. Mengelakkan kita dihalau oleh masyarakat sekeliling\\nC. Mengelakkan kita dipandang rendah oleh orang lain\\nD. Mengelakkan kita menjalani hukuman akibat kesalahan yang dilakukan',\n",
       "  'jawapan': 'D'},\n",
       " {'no': '40',\n",
       "  'objektif': 'Baca petikan cerpen di bawah ini dengan teliti, kemudian jawab soalan-soalan yang berikut.',\n",
       "  'soalan': 'Sungai Layong yang mudah banjir itu menerima tetamu. Ada yang berenang, ada juga yang duduk berceratukan di tebingnya. Ibu-ibu separuh umur\\nterbongkok-bongkok mencuci pinggan-mangkuk. Anak-anak muda sibuk\\nmengangkat air. Ada yang sempat mengusik seorang dua anak gadis yang menuju\\nke sungai. Beluntung membeliakkan matanya. Apa yang terjadi? Mengapa tiba-tiba\\nsahaja orang kampung berada di halaman rumahnya?\\n\\nTuyog mendengus mengejutkan budak-budak yang mandi di sungai. Mereka\\nsegera naik ke tebing. Jantung Beluntung berdebar-debar. Perasaan ingin tahu\\nmenguasai hatinya. Dia terjun dari belakang Tuyog lalu berlari ke rumah. \\n\\n\"Mana ibu?\" Mereka yang berada di dalam rumah itu tertinjau-tinjau ke arahnya. \"Ibu kamu di dapur memasak.\" Beluntung diam dan terus ke dapur. Dia mendapati\\nibu tertawa riang bersama jiran-jiran. \\n\\nBeluntung memeluk ibunya sebelum keluar meninggalkan mereka. Dia\\ntersenyum sendirian. Ibu sihat rupanya, katanya dalam hati. Akan tetapi hatinya\\nmasih tertanya-tanya kenapa ramai orang di rumahnya? Dia mencari-cari bapanya. Bapanya hanya duduk tenang sesekali tergelak mendengar perbualan\\nrakan-rakannya di halaman rumah. \\n\\n\"Kenapa ramai orang di sini?\"\\n\\n\"Kau lulus, nak. Bapa gembira. Kita adakan kenduri.\" Beluntung tersenyum lagi. Dia mendengar Bawod menjerit-jerit. Dia berlari tetapi terlanggar tunggul kayu. Beluntung tersungkur dan tidak sedarkan diri buat beberapa seketika. Setelah sedar, dia berada di pangkuan bapanya. \\n\\n(Dipetik daripada Bawod, antologi Bintang Hati Tingkatan 3, Dewan Bahasa dan Pustaka.)\\n\\nBagaimanakah perasaan Beluntung ketika ramai orang kampung berada di halaman rumahnya?\\n\\nA. Beluntung terlalu risau terhadap keselamatan ibu dan bapanya.\\nB. Beluntung berasa gembira. \\nC. Hati Beluntung tertanya-tanya perkara yang terjadi di rumahnya.\\nD. Jantung Beluntung berdenyut-denyut.',\n",
       "  'jawapan': 'C'},\n",
       " {'no': '41',\n",
       "  'objektif': 'Lengkapkan ayat-ayat yang berikut dengan memilih jawapan yang paling sesuai.',\n",
       "  'soalan': '\"Mangsa bencana banjir akan dibantu melalui _________ yang diwujudkan\", kata wakil rakyat itu semasa menyampaikan ucapannya di hadapan para penduduk kampung.\\nA. sumbangan\\nB. simpanan\\nC. derma\\nD. dana',\n",
       "  'jawapan': 'D'},\n",
       " {'no': '42',\n",
       "  'objektif': 'Lengkapkan ayat-ayat yang berikut dengan memilih jawapan yang paling sesuai.',\n",
       "  'soalan': 'Emak sentiasa mengingatkan adik yang tinggi lampai itu supaya berjalan dengan _____ badannya agar tidak bongkok sabut apabila tua kelak.\\nA. mendirikan\\nB. menegapkan\\nC. menegakkan\\nD. melempangkan',\n",
       "  'jawapan': 'D'},\n",
       " {'no': '43',\n",
       "  'objektif': 'Lengkapkan ayat-ayat yang berikut dengan memilih jawapan yang paling sesuai.',\n",
       "  'soalan': 'Dompet itu diperbuat ____________ kulit ikan pari.\\nA. daripada\\nB. oleh\\nC. pada\\nD. dari',\n",
       "  'jawapan': 'A'},\n",
       " {'no': '44',\n",
       "  'objektif': 'Lengkapkan ayat-ayat yang berikut dengan memilih jawapan yang paling sesuai.',\n",
       "  'soalan': '\"Titah perintah tuanku terjunjung di atas batu jemala ______________\" kata syeikh Shamsuddin kepada Sultan Mansur Syah.\\nA. beta\\nB. patik\\nC. hamba\\nD. baginda',\n",
       "  'jawapan': 'B'},\n",
       " {'no': '45',\n",
       "  'objektif': 'Pilih ayat-ayat yang betul.',\n",
       "  'soalan': 'I. Kita perlu berusaha dengan tekun untuk mencapai kejayaan.\\nII. Kehijauan alam sekitar harus dikekalkan walaupun negara semakin maju.\\nIII. Pelbagai-bagai usaha telah diambil untuk memastikan bidang sukan meningkat naik.\\nIV. Pihak pemaju telah memberikan kejelasan kepada penduduk menganai projek pembinaan itu.\\n\\nA. I dan II sahaja\\nB. III dan IV sahaja\\nC. I, II dan III sahaja\\nD. II, III dan IV sahaja',\n",
       "  'jawapan': 'A'},\n",
       " {'no': '46',\n",
       "  'objektif': 'Pilih ayat-ayat yang betul.',\n",
       "  'soalan': 'I. Manjit mendapat markah yang paling tinggi nian di dalam kelasnya.\\nII. Suasana di pantai yang sungguh amat tenang itu mendamaikan hatinya.\\nIII. Adik kembar Sandy mempunyai sikap yang berbeza sekali dengan Sandy.\\nIV. Wajahnya yang persis penulis terkenal itu menyebabkan terlalu ramai yang keliru\\n\\nA. I dan II sahaja\\nB. III dan IV sahaja\\nC. I, II dan III sahaja\\nD. II, III dan IV sahaja',\n",
       "  'jawapan': 'A'},\n",
       " {'no': '47',\n",
       "  'objektif': 'Pilih ayat yang mempunyai maksud yang sama atau maksud yang paling hampir dengan ayat soalan.',\n",
       "  'soalan': 'Faktor kejayaan pasukan bola sepak sekolah dalam pertandingan itu adalah kerana usaha yang berterusan dan semangat berpasukan.\\nA. Kerana usaha yang berterusan dan semangat berpasukan, pasukan bola sepak sekolah berjaya dalam pertandingan itu.\\nB. Dalam pertandingan itu, usaha yang berterusan dan semangat berpasukan pasukan bola sepak sekolah ialah faktor kejayaan.\\nC. Usaha yang berterusan dan semangat berpasukan ialah kunci kejayaan pasukan bola sepak dalam pertandingan itu.\\nD. Kejayaan pasukan bola sepak sekolah dalam pertandingan itu menjadi faktor usaha yang berterusan dan semangat berpasukan.',\n",
       "  'jawapan': 'C'},\n",
       " {'no': '48',\n",
       "  'objektif': 'Pilih peribahasa atau maksud peribahasa yang paling sesuai.',\n",
       "  'soalan': 'Peribahasa yang berikut membawa maksud pasangan yang sama cantik dan sama padan, kecuali\\nA. seperti isi dengan kuku\\nB. seperti pinang dibelah dua\\nC. seperti cincin dengan permata\\nD. seperti bulan dengan matahari',\n",
       "  'jawapan': 'A'},\n",
       " {'no': '49',\n",
       "  'objektif': 'Pilih peribahasa atau maksud peribahasa yang paling sesuai.',\n",
       "  'soalan': 'Peribahasa cubit peha kanan, peha kiri juga terasa membawa maksud\\nA. sesuatu pekerjaan yang sukar hendaklah dilakukan dengan bersungguh-sungguh\\nB. jika ahli keluarga mendapat susah, yang lain akan turut susah\\nC. bertindak dengan tergesa-gesa, akhirnya akan merugikan diri sendiri.\\nD. orang yang malu bertanya, akan tersesat di pertengahan jalan',\n",
       "  'jawapan': 'B'},\n",
       " {'no': '50',\n",
       "  'objektif': 'Baca sajak di bawah ini dengan teliti, kemudian jawab soalan-soalan yang berikutnya.',\n",
       "  'soalan': 'PADA SEKUNTUM MAWAR\\nSehelai kelopakmu gugur\\nadalah titis air mata bonda\\nyang luruh dalam lipatan usia\\n\\nMerenung pada malam yang kematian angina\\npada laut yang kematian ombak\\nseperti telah menutup\\npintu kehidupan ini\\nmenjadi sepi dan lara\\npada kemusnahan yang tak pernah dipinta.\\n\\nSekuntum mawar\\nbukan melontar harum indahmu\\ndi hujung lembah\\ntapi mengangkat seri mahkotamu\\nke puncak iman\\n\\nMAHWA MOHAMED (Dipetik daripada sajak \"Pada Sekuntum Mawar\" Antologi Baik Budi, Indah Bahasa, Tingkatan 2, KPM)\\n\\nMengapakah air mata ibu menitis pada rangkap pertama sajak?\\nA. Kelopak bunganya gugur\\nB. Dirinya semakin dimamah usia\\nC. Bunga kesayangannya akan mati\\nD. Anak gadisnya hilang maruah diri',\n",
       "  'jawapan': 'D'},\n",
       " {'no': '51',\n",
       "  'objektif': 'Baca sajak di bawah ini dengan teliti, kemudian jawab soalan-soalan yang berikutnya.',\n",
       "  'soalan': 'PADA SEKUNTUM MAWAR\\nSehelai kelopakmu gugur\\nadalah titis air mata bonda\\nyang luruh dalam lipatan usia\\n\\nMerenung pada malam yang kematian angina\\npada laut yang kematian ombak\\nseperti telah menutup\\npintu kehidupan ini\\nmenjadi sepi dan lara\\npada kemusnahan yang tak pernah dipinta.\\n\\nSekuntum mawar\\nbukan melontar harum indahmu\\ndi hujung lembah\\ntapi mengangkat seri mahkotamu\\nke puncak iman\\n\\nMAHWA MOHAMED (Dipetik daripada sajak \"Pada Sekuntum Mawar\" Antologi Baik Budi, Indah Bahasa, Tingkatan 2, KPM)\\n\\nNyatakan pengajaran yang terdapat pada rangkap ketiga sajak.\\nA. Seorang gadis mestilah menjaga kehormatan diri\\nB. Seorang gadis mestilah berani menempuh ranjau kehidupan\\nC. Seorang ibu mestilah sentiasa mendoakan kejayaan anak-anak\\nD. Seorang anak mestilah diberikan hukuman apabila dia memalukan keluarga',\n",
       "  'jawapan': 'A'},\n",
       " {'no': '52',\n",
       "  'objektif': 'Baca sajak di bawah ini dengan teliti, kemudian jawab soalan-soalan yang berikutnya.',\n",
       "  'soalan': 'PADA SEKUNTUM MAWAR\\nSehelai kelopakmu gugur\\nadalah titis air mata bonda\\nyang luruh dalam lipatan usia\\n\\nMerenung pada malam yang kematian angina\\npada laut yang kematian ombak\\nseperti telah menutup\\npintu kehidupan ini\\nmenjadi sepi dan lara\\npada kemusnahan yang tak pernah dipinta.\\n\\nSekuntum mawar\\nbukan melontar harum indahmu\\ndi hujung lembah\\ntapi mengangkat seri mahkotamu\\nke puncak iman\\n\\nMAHWA MOHAMED (Dipetik daripada sajak \"Pada Sekuntum Mawar\" Antologi Baik Budi, Indah Bahasa, Tingkatan 2, KPM)\\n\\nPilih baris sajak yang mengandungi gaya bahasa metafora\\nA. Pintu kehidupan\\nB. Sekuntum mawar\\nC. Titis air mata bonda\\nD. Melontar harum indahmu',\n",
       "  'jawapan': 'A'},\n",
       " {'no': '53',\n",
       "  'objektif': 'Baca sajak di bawah ini dengan teliti, kemudian jawab soalan-soalan yang berikutnya.',\n",
       "  'soalan': 'PADA SEKUNTUM MAWAR\\nSehelai kelopakmu gugur\\nadalah titis air mata bonda\\nyang luruh dalam lipatan usia\\n\\nMerenung pada malam yang kematian angina\\npada laut yang kematian ombak\\nseperti telah menutup\\npintu kehidupan ini\\nmenjadi sepi dan lara\\npada kemusnahan yang tak pernah dipinta.\\n\\nSekuntum mawar\\nbukan melontar harum indahmu\\ndi hujung lembah\\ntapi mengangkat seri mahkotamu\\nke puncak iman\\n\\nMAHWA MOHAMED (Dipetik daripada sajak \"Pada Sekuntum Mawar\" Antologi Baik Budi, Indah Bahasa, Tingkatan 2, KPM)\\n\\n\"Pada kemusnahan yang tak pernah dicipta\", Apakah yang dimaksudkan dengan baris sajak tersebut?\\nA. Kerosakan alam sekitar secara tiba-tiba\\nB. Jatuhnya maruah diri seorang gadis tanpa diduga\\nC. Nilai kemanusiaan yang hilang tanpa disedari\\nD. Kebejatan social dalam kalangan remaja sesuatu yang tidak diminta',\n",
       "  'jawapan': 'B'},\n",
       " {'no': '54',\n",
       "  'objektif': 'Baca sajak di bawah ini dengan teliti, kemudian jawab soalan-soalan yang berikutnya.',\n",
       "  'soalan': 'PADA SEKUNTUM MAWAR\\nSehelai kelopakmu gugur\\nadalah titis air mata bonda\\nyang luruh dalam lipatan usia\\n\\nMerenung pada malam yang kematian angina\\npada laut yang kematian ombak\\nseperti telah menutup\\npintu kehidupan ini\\nmenjadi sepi dan lara\\npada kemusnahan yang tak pernah dipinta.\\n\\nSekuntum mawar\\nbukan melontar harum indahmu\\ndi hujung lembah\\ntapi mengangkat seri mahkotamu\\nke puncak iman\\n\\nMAHWA MOHAMED (Dipetik daripada sajak \"Pada Sekuntum Mawar\" Antologi Baik Budi, Indah Bahasa, Tingkatan 2, KPM)\\n\\nMengapakah penjagaan maruah dan kehormatan diri lebih dititikberatkan kepada kaum wanita\\nA. Wanita yang rosak akhlak akan merosakkan dirinya sahaja\\nB. Wanita yang rosak akhlak tidak akan mampu mendidik anak dengan baik\\nC. Wanita yang rosak akhlak akan kehilangan rakan-rakan\\nD. Ibu bapa akan mengalami tekanan perasaan apabila anak perempuan mereka rosak akhlak',\n",
       "  'jawapan': 'B'}]"
      ]
     },
     "execution_count": 5,
     "metadata": {},
     "output_type": "execute_result"
    }
   ],
   "source": [
    "questions"
   ]
  },
  {
   "cell_type": "code",
   "execution_count": 6,
   "metadata": {},
   "outputs": [
    {
     "name": "stdout",
     "output_type": "stream",
     "text": [
      "\n",
      "objektif: Lengkapkan ayat-ayat yang berikut dengan memilih jawapan yang paling sesuai.\n",
      "soalan: Para ___ tanah air telah dihantar ke negara Jepun untuk membantu mangsa gempa bumi dan tsunami.\n",
      "A. hartawan\n",
      "B. dermawan\n",
      "C. bangsawan\n",
      "D. sukarelawan\n",
      "\n"
     ]
    }
   ],
   "source": [
    "row = questions[0]\n",
    "prompt = f\"\"\"\n",
    "objektif: {row['objektif']}\n",
    "soalan: {row['soalan']}\n",
    "\"\"\"\n",
    "print(prompt)"
   ]
  },
  {
   "cell_type": "code",
   "execution_count": 7,
   "metadata": {},
   "outputs": [],
   "source": [
    "r = curl(prompt)"
   ]
  },
  {
   "cell_type": "code",
   "execution_count": 8,
   "metadata": {},
   "outputs": [
    {
     "data": {
      "text/plain": [
       "'D. sukarelawan'"
      ]
     },
     "execution_count": 8,
     "metadata": {},
     "output_type": "execute_result"
    }
   ],
   "source": [
    "r.json()['choices'][0]['message']['content']"
   ]
  },
  {
   "cell_type": "code",
   "execution_count": 9,
   "metadata": {
    "scrolled": true
   },
   "outputs": [
    {
     "name": "stderr",
     "output_type": "stream",
     "text": [
      "100%|███████████████████████████████████████████| 54/54 [01:10<00:00,  1.31s/it]\n"
     ]
    }
   ],
   "source": [
    "for i in tqdm(range(len(questions))):\n",
    "    row = questions[i]\n",
    "    prompt = f\"\"\"\n",
    "objektif: {row['objektif']}\n",
    "soalan: {row['soalan']}\n",
    "    \"\"\".strip()\n",
    "    try:\n",
    "        r = curl(prompt)\n",
    "        answer = r.json()['choices'][0]['message']['content']\n",
    "        questions[i]['output'] = answer\n",
    "    except:\n",
    "        pass"
   ]
  },
  {
   "cell_type": "code",
   "execution_count": 10,
   "metadata": {},
   "outputs": [],
   "source": [
    "import json\n",
    "\n",
    "with open('output-0shot.json', 'w') as fopen:\n",
    "    json.dump(questions, fopen)"
   ]
  },
  {
   "cell_type": "code",
   "execution_count": 11,
   "metadata": {},
   "outputs": [
    {
     "data": {
      "text/plain": [
       "52"
      ]
     },
     "execution_count": 11,
     "metadata": {},
     "output_type": "execute_result"
    }
   ],
   "source": [
    "filtered = [q for q in questions if 'output' in q]\n",
    "len(filtered)"
   ]
  },
  {
   "cell_type": "code",
   "execution_count": 13,
   "metadata": {},
   "outputs": [],
   "source": [
    "correct = 0\n",
    "for q in filtered:\n",
    "    correct += q['output'].split('.')[0] == q['jawapan']"
   ]
  },
  {
   "cell_type": "code",
   "execution_count": 14,
   "metadata": {},
   "outputs": [
    {
     "data": {
      "text/plain": [
       "36.53846153846153"
      ]
     },
     "execution_count": 14,
     "metadata": {},
     "output_type": "execute_result"
    }
   ],
   "source": [
    "(correct / len(filtered)) * 100"
   ]
  },
  {
   "cell_type": "code",
   "execution_count": null,
   "metadata": {},
   "outputs": [],
   "source": []
  }
 ],
 "metadata": {
  "kernelspec": {
   "display_name": "Python 3 (ipykernel)",
   "language": "python",
   "name": "python3"
  },
  "language_info": {
   "codemirror_mode": {
    "name": "ipython",
    "version": 3
   },
   "file_extension": ".py",
   "mimetype": "text/x-python",
   "name": "python",
   "nbconvert_exporter": "python",
   "pygments_lexer": "ipython3",
   "version": "3.8.10"
  }
 },
 "nbformat": 4,
 "nbformat_minor": 4
}
