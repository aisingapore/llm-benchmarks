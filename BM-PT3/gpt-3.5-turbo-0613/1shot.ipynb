{
 "cells": [
  {
   "cell_type": "code",
   "execution_count": 3,
   "metadata": {},
   "outputs": [],
   "source": [
    "# !wget https://raw.githubusercontent.com/mesolitica/malaysian-dataset/master/llm-benchmark/BM-pt3/BM-A-pt3"
   ]
  },
  {
   "cell_type": "code",
   "execution_count": 13,
   "metadata": {},
   "outputs": [],
   "source": [
    "from tqdm import tqdm\n",
    "import os\n",
    "import random"
   ]
  },
  {
   "cell_type": "code",
   "execution_count": 5,
   "metadata": {},
   "outputs": [],
   "source": [
    "apikey = ''"
   ]
  },
  {
   "cell_type": "code",
   "execution_count": 6,
   "metadata": {},
   "outputs": [],
   "source": [
    "import requests\n",
    "\n",
    "def curl(value):\n",
    "    headers = {\n",
    "        'Content-Type': 'application/json',\n",
    "        'api-key': apikey,\n",
    "    }\n",
    "\n",
    "    params = {\n",
    "        'api-version': '2023-03-15-preview',\n",
    "    }\n",
    "\n",
    "    json_data = {\n",
    "        'messages': [\n",
    "            {'role': 'system', 'content':'answer only, no need to explain'},\n",
    "            {\n",
    "                'role': 'user',\n",
    "                'content': value,\n",
    "            },\n",
    "        ],\n",
    "        'max_tokens': 100,\n",
    "        'temperature': 0,\n",
    "    }\n",
    "\n",
    "    response = requests.post(\n",
    "        'https://nous.openai.azure.com/openai/deployments/nous/chat/completions',\n",
    "        params=params,\n",
    "        headers=headers,\n",
    "        json=json_data,\n",
    "        timeout = 120,\n",
    "    )\n",
    "    \n",
    "    return response"
   ]
  },
  {
   "cell_type": "code",
   "execution_count": 7,
   "metadata": {},
   "outputs": [],
   "source": [
    "with open('BM-A-pt3') as fopen:\n",
    "    text = fopen.read()\n",
    "    \n",
    "questions = []\n",
    "for t in text.split('no: ')[1:]:\n",
    "    t = t.strip()\n",
    "    no = t.split('\\n')[0]\n",
    "    objektif = t.split('objektif: ')[1].split('\\n')[0]\n",
    "    soalan = t.split('soalan:')[1].split('jawapan:')[0].strip()\n",
    "    jawapan = t.split('jawapan: ')[1].split(',')[0].strip()\n",
    "    data = {\n",
    "        'no': no,\n",
    "        'objektif': objektif,\n",
    "        'soalan': soalan,\n",
    "        'jawapan': jawapan,\n",
    "    }\n",
    "    questions.append(data)"
   ]
  },
  {
   "cell_type": "code",
   "execution_count": 12,
   "metadata": {},
   "outputs": [],
   "source": [
    "arange = set(range(len(questions)))"
   ]
  },
  {
   "cell_type": "code",
   "execution_count": 28,
   "metadata": {},
   "outputs": [],
   "source": [
    "def convert_prompt(row, answer = False):\n",
    "    if answer:\n",
    "        prompt = f\"\"\"\n",
    "objektif: {row['objektif']}\n",
    "soalan: {row['soalan']}\n",
    "jawapan: {row['jawapan']}\n",
    "    \"\"\"\n",
    "    else:\n",
    "        prompt = f\"\"\"\n",
    "objektif: {row['objektif']}\n",
    "soalan: {row['soalan']}\n",
    "    \"\"\"\n",
    "    return prompt.strip()"
   ]
  },
  {
   "cell_type": "code",
   "execution_count": 32,
   "metadata": {},
   "outputs": [
    {
     "name": "stdout",
     "output_type": "stream",
     "text": [
      "Contoh soalan 1\n",
      "objektif: Pilih ayat-ayat yang betul.\n",
      "soalan: I. Encik Ayob gembira apabila anaknya bersuamikan dengan lelaki pilihannya.\n",
      "II. \"Patik menjunjung kasih atas perkenan Tuanku menyempumakan upacara ini,\" kata pengacara majiis.\n",
      "III. Pelajar saling berlukar pendapat berkaitan isu yang diberi oleh guru.\n",
      "IV. Jalan raya di Malaysia adalah antara yang paling baik di rantau Asia.\n",
      "\n",
      "A. I dan II sahaja\n",
      "B. III dan IV sahaja\n",
      "C. I, II, dan III sahaja\n",
      "D. II, III, dan IV sahaja\n",
      "jawapan: D\n",
      "\n",
      "objektif: Lengkapkan ayat-ayat yang berikut dengan memilih jawapan yang paling sesuai.\n",
      "soalan: Para ___ tanah air telah dihantar ke negara Jepun untuk membantu mangsa gempa bumi dan tsunami.\n",
      "A. hartawan\n",
      "B. dermawan\n",
      "C. bangsawan\n",
      "D. sukarelawan\n"
     ]
    }
   ],
   "source": [
    "i = 0\n",
    "shots = random.sample(arange - {i}, 1)\n",
    "prompts = []\n",
    "for no, s in enumerate(shots):\n",
    "    prompts.append(f'Contoh soalan {no + 1}\\n' + convert_prompt(questions[s], answer = True))\n",
    "\n",
    "prompts.append(convert_prompt(questions[i]))\n",
    "prompt = '\\n\\n'.join(prompts)\n",
    "print(prompt)"
   ]
  },
  {
   "cell_type": "code",
   "execution_count": 33,
   "metadata": {},
   "outputs": [],
   "source": [
    "r = curl(prompt)"
   ]
  },
  {
   "cell_type": "code",
   "execution_count": 34,
   "metadata": {},
   "outputs": [
    {
     "data": {
      "text/plain": [
       "'D. sukarelawan'"
      ]
     },
     "execution_count": 34,
     "metadata": {},
     "output_type": "execute_result"
    }
   ],
   "source": [
    "r.json()['choices'][0]['message']['content']"
   ]
  },
  {
   "cell_type": "code",
   "execution_count": 39,
   "metadata": {
    "scrolled": true
   },
   "outputs": [
    {
     "name": "stderr",
     "output_type": "stream",
     "text": [
      "100%|███████████████████████████████████████████| 54/54 [01:08<00:00,  1.27s/it]\n"
     ]
    }
   ],
   "source": [
    "for i in tqdm(range(len(questions))):\n",
    "    shots = random.sample(arange - {i}, 1)\n",
    "    prompts = []\n",
    "    for no, s in enumerate(shots):\n",
    "        prompts.append(f'Contoh soalan {no + 1}\\n' + convert_prompt(questions[s], answer = True))\n",
    "\n",
    "    prompts.append(convert_prompt(questions[i]))\n",
    "    prompt = '\\n\\n'.join(prompts)\n",
    "    try:\n",
    "        r = curl(prompt)\n",
    "        answer = r.json()['choices'][0]['message']['content']\n",
    "        questions[i]['output'] = answer\n",
    "    except:\n",
    "        pass"
   ]
  },
  {
   "cell_type": "code",
   "execution_count": 40,
   "metadata": {},
   "outputs": [],
   "source": [
    "import json\n",
    "\n",
    "with open('output-1shot.json', 'w') as fopen:\n",
    "    json.dump(questions, fopen)"
   ]
  },
  {
   "cell_type": "code",
   "execution_count": 41,
   "metadata": {},
   "outputs": [
    {
     "data": {
      "text/plain": [
       "52"
      ]
     },
     "execution_count": 41,
     "metadata": {},
     "output_type": "execute_result"
    }
   ],
   "source": [
    "filtered = [q for q in questions if 'output' in q]\n",
    "len(filtered)"
   ]
  },
  {
   "cell_type": "code",
   "execution_count": 43,
   "metadata": {},
   "outputs": [],
   "source": [
    "correct = 0\n",
    "for q in filtered:\n",
    "    correct += q['output'].split('.')[0] == q['jawapan']"
   ]
  },
  {
   "cell_type": "code",
   "execution_count": 44,
   "metadata": {},
   "outputs": [
    {
     "data": {
      "text/plain": [
       "28.846153846153843"
      ]
     },
     "execution_count": 44,
     "metadata": {},
     "output_type": "execute_result"
    }
   ],
   "source": [
    "(correct / len(filtered)) * 100"
   ]
  },
  {
   "cell_type": "code",
   "execution_count": null,
   "metadata": {},
   "outputs": [],
   "source": []
  }
 ],
 "metadata": {
  "kernelspec": {
   "display_name": "Python 3 (ipykernel)",
   "language": "python",
   "name": "python3"
  },
  "language_info": {
   "codemirror_mode": {
    "name": "ipython",
    "version": 3
   },
   "file_extension": ".py",
   "mimetype": "text/x-python",
   "name": "python",
   "nbconvert_exporter": "python",
   "pygments_lexer": "ipython3",
   "version": "3.8.10"
  }
 },
 "nbformat": 4,
 "nbformat_minor": 4
}
