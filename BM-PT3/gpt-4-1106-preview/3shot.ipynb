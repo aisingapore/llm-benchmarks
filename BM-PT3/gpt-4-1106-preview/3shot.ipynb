{
 "cells": [
  {
   "cell_type": "code",
   "execution_count": 1,
   "id": "bbd65c8c",
   "metadata": {},
   "outputs": [],
   "source": [
    "from tqdm import tqdm\n",
    "import os\n",
    "import json\n",
    "import random"
   ]
  },
  {
   "cell_type": "code",
   "execution_count": 2,
   "id": "e8fb06f2",
   "metadata": {},
   "outputs": [],
   "source": [
    "apikey = ''"
   ]
  },
  {
   "cell_type": "code",
   "execution_count": 3,
   "id": "1f013a0e",
   "metadata": {},
   "outputs": [],
   "source": [
    "import requests\n",
    "\n",
    "def curl(value):\n",
    "    headers = {\n",
    "        'Content-Type': 'application/json',\n",
    "        'Authorization': f'Bearer {apikey}',\n",
    "    }\n",
    "\n",
    "    json_data = {\n",
    "        'messages': [\n",
    "            {'role': 'system', 'content':'answer only, no need to explain'},\n",
    "            {\n",
    "                'role': 'user',\n",
    "                'content': value,\n",
    "            },\n",
    "        ],\n",
    "        'max_tokens': 100,\n",
    "        'temperature': 0,\n",
    "        'model': 'gpt-4-1106-preview',\n",
    "    }\n",
    "\n",
    "    response = requests.post(\n",
    "        'https://api.openai.com/v1/chat/completions',\n",
    "        headers=headers,\n",
    "        json=json_data,\n",
    "        timeout = 120,\n",
    "    )\n",
    "    \n",
    "    return response"
   ]
  },
  {
   "cell_type": "code",
   "execution_count": 4,
   "id": "da887133",
   "metadata": {},
   "outputs": [],
   "source": [
    "with open('BM-A-pt3') as fopen:\n",
    "    text = fopen.read()\n",
    "    \n",
    "questions = []\n",
    "for t in text.split('no: ')[1:]:\n",
    "    t = t.strip()\n",
    "    no = t.split('\\n')[0]\n",
    "    objektif = t.split('objektif: ')[1].split('\\n')[0]\n",
    "    soalan = t.split('soalan:')[1].split('jawapan:')[0].strip()\n",
    "    jawapan = t.split('jawapan: ')[1].split(',')[0].strip()\n",
    "    data = {\n",
    "        'no': no,\n",
    "        'objektif': objektif,\n",
    "        'soalan': soalan,\n",
    "        'jawapan': jawapan,\n",
    "    }\n",
    "    questions.append(data)"
   ]
  },
  {
   "cell_type": "code",
   "execution_count": 5,
   "id": "9deb80ba",
   "metadata": {},
   "outputs": [],
   "source": [
    "arange = set(range(len(questions)))"
   ]
  },
  {
   "cell_type": "code",
   "execution_count": 6,
   "id": "72006539",
   "metadata": {},
   "outputs": [],
   "source": [
    "def convert_prompt(row, answer = False):\n",
    "    if answer:\n",
    "        prompt = f\"\"\"\n",
    "objektif: {row['objektif']}\n",
    "soalan: {row['soalan']}\n",
    "jawapan: {row['jawapan']}\n",
    "    \"\"\"\n",
    "    else:\n",
    "        prompt = f\"\"\"\n",
    "objektif: {row['objektif']}\n",
    "soalan: {row['soalan']}\n",
    "    \"\"\"\n",
    "    return prompt.strip()"
   ]
  },
  {
   "cell_type": "code",
   "execution_count": 7,
   "id": "10b1ec2b",
   "metadata": {},
   "outputs": [
    {
     "name": "stdout",
     "output_type": "stream",
     "text": [
      "Contoh soalan 1\n",
      "objektif: Baca petikan di bawah ini dengan teliti, kemudian jawab soalan-soalan yang berikut.\n",
      "soalan: Maka diambil padi yang dijemur itu segenggam, lalu disembunyikan butir-butir padi itu di\n",
      "dalam lubang-lubang luka pada tumitnya. Setelah itu ia pun meminta izin dengan baik-\n",
      "baik untuk pulang ke kampungnya, ke bumi tempat saudaranya yang tetap menantinya.\n",
      "Maka berkatalah induk semangnya, orang kayangan yang masih juga mencurigainya\n",
      "itu, \"Baiklah jikalau kamu ingin pulang ke kampung kamu, akan tetapi, sebelum itu saya\n",
      "akan memeriksa dan menggeledah kamu lebih dahulu. Barangkali ada padi yang\n",
      "disembunyikan untuk kamu bawa sebagai oleh-oleh ke bumi.\"\n",
      "Anak yatim piatu itu pun menjawab dengan tenangnya, \"Silakan ! Periksalah dengan\n",
      "teliti kalau-kalau ada apa-apa yang saya bawa. Sekarang saya sudah betul-betul jera\n",
      "mengambil apa-apa. Saya sungguh-sungguh sudah bertaubat dan tidak mahu lagi\n",
      "melakukannya.\"\n",
      "Kemudian induk semang berkata, \"Jikalau benar demikian katamu, maka jelaslah bagi\n",
      "kami dan percayalah kami bahawa kamu betul-betul tidak akan mencuri padi kami lagi.\"\n",
      "Setelah induk semang berkata demikian, maka anak yatim piatu itu pun berangkatlah\n",
      "meninggalkan kayangan. Orang kayangan itu tidak mengetahui sama sekali bahawa anak\n",
      "yatim paitu yang kecil itu ada menyembunyikan padi di dalam lubang-lubang luka pada\n",
      "tumitnya. Akhirnya sampai jugalah anak yatim piatu itu dengan selamat di kampungnya.\n",
      "Maka ia pun dengan segera membuat ladang. Setelah selesai, ditanamnya padi yang\n",
      "dicurinya itu di ladangnya.\n",
      "\n",
      "Bagaimana anak yatim piatu itu membawa butir-butir padi bersamanya?\n",
      "\n",
      "A. Mencuri sebutir padi dan melarikan diri\n",
      "B. Meminta izin daripada Induk Semang sebagai oleh-oleh ke bumi\n",
      "C. Menyembunyikan butir-butir padi di dalam lubang luka pada tumitnya\n",
      "D. Menanam padi yang dicuri di lading tanpa pengetahuan orang kayangan\n",
      "jawapan: C\n",
      "\n",
      "Contoh soalan 2\n",
      "objektif: Baca petikan di bawah ini dengan teliti, kemudian jawab soalan-soalan yang berikut.\n",
      "soalan: Demam denggi merupakan penyakit bawaan nyamuk Aedes yang menyebabkan\n",
      "virus demam denggi kepada manusia. Kita sering kali alpa dan memandang enteng\n",
      "tentang wabak denggi sehingga ada dalam kalangan ahli keluarga kita dijangkiti demam\n",
      "denggi.\n",
      "Acap kali kita mendengar bahawa pesakit yang mengalami demam denggi bagi kali\n",
      "kedua beldepan dengan risiko kematian. Hal ini demikian kerana antibodi badan mangsa\n",
      "sudah lemah dan tidak mampu melawan serangan virus denggi. Virus ini disebarkan oleh\n",
      "nyamuk aedes betina. Hakikatnya, risiko kematian sentiasa ada bagi setiap pesakit\n",
      "demam denggi walaupun kalipertama dijangkiti virus berkenaan.\n",
      "Demam denggi bermuia dengan pesakit mengalami demam panas diikuti dengan\n",
      "simptom-simptom lain seperti sakit kepala, sakit sendi dan sakit pada bahagian beiakang\n",
      "mata serta ruam merah di kulit. Apabila platlet darah pesakit demam denggr semakin\n",
      "berkurangan secara berterusan, tekanan darah akan menjadi rendah, denlutan nadi juga\n",
      "semakin laju dan akhirnya berlaku kematian.\n",
      "Demi memastikan keluarga bebas daripada demam denggi, kita mestilah\n",
      "memastikan keselamatan di dalam rumah. Sebagai contoh, tingkap dan pintu mestilah\n",
      "ditutup menjelang waktu senja. Selain itu, kita juga boleh menggunakan lingkaran\n",
      "elektrik atau penyerap cecair bagi menghalang serangga seperti nyamuk aedes masuk ke\n",
      "dalam rumah.\n",
      "\n",
      "(Dipetik dan diubah suai daripada \"Demam Denggi Berisiko Maut\" oleh Nor 'Asyikin Mat Hayin, Harian Metro, 6 Januari 2019)\n",
      "\n",
      "Apakah maksud rangkai kata memandang enteng?\n",
      "\n",
      "A. mengambil mudah\n",
      "B. membuat senang\n",
      "C. menjadi remeh\n",
      "D. melihat renyah\n",
      "jawapan: A\n",
      "\n",
      "Contoh soalan 3\n",
      "objektif: Baca petikan sajak di bawah ini dengan teliti, kemudian jawab soalan-soalan yang berikut.\n",
      "soalan: Senja di Palang Besi\n",
      "Senja mula menangis\n",
      "remang membongkar sendu\n",
      "mengutus kuntum-kuntum serakan cahaya\n",
      "berlari di celah jambangan bunga dedawai\n",
      "menari mengikat ramah kekosongan\n",
      "dalam kotak tidur sepi nan pedar hati.\n",
      "\n",
      "Pilu wajahmu sang senja\n",
      "yang dulu melakar bahagia\n",
      "kini merayap sayu membelai jemari malam\n",
      "dalam keterbuangan yang merangkum\n",
      "dalam keterasingan yang mencengkam\n",
      "dalam kesakitan yang membungkam.\n",
      "\n",
      "Tanpa pasir pantai atau silir angin\n",
      "rentet susun bibir palang besi dingin itu\n",
      "menjerut resah berteleku dalam hening\n",
      "bernyanyi rakus dalam kelu rasa keterkongkongan\n",
      "menghantar pergi erti keriuhan\n",
      "jauh di balik redup senja yang mula mengundurkan diri\n",
      "bersama riak samudera jiwa bernama kesunyian\n",
      "hukuman terhebat hikayat kemanusiaan.\n",
      "\n",
      "Berikut perasaan penyajak ketika berada di dalam penjara kecuali\n",
      "\n",
      "A. terbuang\n",
      "B. terasing\n",
      "C. sedih\n",
      "D. benci\n",
      "jawapan: D\n",
      "\n",
      "objektif: Lengkapkan ayat-ayat yang berikut dengan memilih jawapan yang paling sesuai.\n",
      "soalan: Para ___ tanah air telah dihantar ke negara Jepun untuk membantu mangsa gempa bumi dan tsunami.\n",
      "A. hartawan\n",
      "B. dermawan\n",
      "C. bangsawan\n",
      "D. sukarelawan\n"
     ]
    }
   ],
   "source": [
    "i = 0\n",
    "shots = random.sample(arange - {i}, 3)\n",
    "prompts = []\n",
    "for no, s in enumerate(shots):\n",
    "    prompts.append(f'Contoh soalan {no + 1}\\n' + convert_prompt(questions[s], answer = True))\n",
    "\n",
    "prompts.append(convert_prompt(questions[i]))\n",
    "prompt = '\\n\\n'.join(prompts)\n",
    "print(prompt)"
   ]
  },
  {
   "cell_type": "code",
   "execution_count": 8,
   "id": "432d0826",
   "metadata": {},
   "outputs": [],
   "source": [
    "r = curl(prompt)"
   ]
  },
  {
   "cell_type": "code",
   "execution_count": 9,
   "id": "90920ac9",
   "metadata": {},
   "outputs": [
    {
     "data": {
      "text/plain": [
       "'jawapan: D'"
      ]
     },
     "execution_count": 9,
     "metadata": {},
     "output_type": "execute_result"
    }
   ],
   "source": [
    "r.json()['choices'][0]['message']['content']"
   ]
  },
  {
   "cell_type": "code",
   "execution_count": 10,
   "id": "98f5d415",
   "metadata": {},
   "outputs": [
    {
     "name": "stderr",
     "output_type": "stream",
     "text": [
      "100%|███████████████████████████████████████████| 54/54 [00:45<00:00,  1.18it/s]\n"
     ]
    }
   ],
   "source": [
    "for i in tqdm(range(len(questions))):\n",
    "    shots = random.sample(arange - {i}, 3)\n",
    "    prompts = []\n",
    "    for no, s in enumerate(shots):\n",
    "        prompts.append(f'Contoh soalan {no + 1}\\n' + convert_prompt(questions[s], answer = True))\n",
    "\n",
    "    prompts.append(convert_prompt(questions[i]))\n",
    "    prompt = '\\n\\n'.join(prompts)\n",
    "    try:\n",
    "        r = curl(prompt)\n",
    "        answer = r.json()['choices'][0]['message']['content']\n",
    "        questions[i]['output'] = answer\n",
    "    except:\n",
    "        pass"
   ]
  },
  {
   "cell_type": "code",
   "execution_count": 11,
   "id": "a6262cd6",
   "metadata": {},
   "outputs": [],
   "source": [
    "import json\n",
    "\n",
    "with open('output-3shot.json', 'w') as fopen:\n",
    "    json.dump(questions, fopen)"
   ]
  },
  {
   "cell_type": "code",
   "execution_count": 12,
   "id": "2e17d26f",
   "metadata": {},
   "outputs": [
    {
     "data": {
      "text/plain": [
       "54"
      ]
     },
     "execution_count": 12,
     "metadata": {},
     "output_type": "execute_result"
    }
   ],
   "source": [
    "filtered = [q for q in questions if 'output' in q]\n",
    "len(filtered)"
   ]
  },
  {
   "cell_type": "code",
   "execution_count": 13,
   "id": "36b05bdd",
   "metadata": {},
   "outputs": [
    {
     "data": {
      "text/plain": [
       "55.55555555555556"
      ]
     },
     "execution_count": 13,
     "metadata": {},
     "output_type": "execute_result"
    }
   ],
   "source": [
    "correct = 0\n",
    "for q in filtered:\n",
    "    correct += q['output'].replace('jawapan:', '').split('.')[0].strip() == q['jawapan']\n",
    "(correct / len(filtered)) * 100"
   ]
  },
  {
   "cell_type": "code",
   "execution_count": null,
   "id": "372cb87c",
   "metadata": {},
   "outputs": [],
   "source": []
  }
 ],
 "metadata": {
  "kernelspec": {
   "display_name": "Python 3 (ipykernel)",
   "language": "python",
   "name": "python3"
  },
  "language_info": {
   "codemirror_mode": {
    "name": "ipython",
    "version": 3
   },
   "file_extension": ".py",
   "mimetype": "text/x-python",
   "name": "python",
   "nbconvert_exporter": "python",
   "pygments_lexer": "ipython3",
   "version": "3.8.10"
  }
 },
 "nbformat": 4,
 "nbformat_minor": 5
}
