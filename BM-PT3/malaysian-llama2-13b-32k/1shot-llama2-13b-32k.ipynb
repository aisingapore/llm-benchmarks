{
 "cells": [
  {
   "cell_type": "code",
   "execution_count": 1,
   "id": "2bc3b911",
   "metadata": {},
   "outputs": [],
   "source": [
    "# !wget https://raw.githubusercontent.com/mesolitica/malaysian-dataset/master/llm-benchmark/BM-pt3/BM-A-pt3"
   ]
  },
  {
   "cell_type": "code",
   "execution_count": 2,
   "id": "24c00f25",
   "metadata": {},
   "outputs": [
    {
     "name": "stdout",
     "output_type": "stream",
     "text": [
      "[2023-11-10 06:41:42,817] [INFO] [real_accelerator.py:133:get_accelerator] Setting ds_accelerator to cuda (auto detect)\n"
     ]
    },
    {
     "data": {
      "application/vnd.jupyter.widget-view+json": {
       "model_id": "27ec5f867e5c46f1b99c73abfbce3c42",
       "version_major": 2,
       "version_minor": 0
      },
      "text/plain": [
       "Loading checkpoint shards:   0%|          | 0/3 [00:00<?, ?it/s]"
      ]
     },
     "metadata": {},
     "output_type": "display_data"
    }
   ],
   "source": [
    "from transformers import AutoTokenizer, AutoModelForCausalLM\n",
    "import torch\n",
    "\n",
    "tokenizer = AutoTokenizer.from_pretrained('mesolitica/llama-13b-hf-32768-fpf')\n",
    "model = AutoModelForCausalLM.from_pretrained(\n",
    "    'mesolitica/llama-13b-hf-32768-fpf', \n",
    "    use_flash_attention_2 = True, \n",
    "    torch_dtype = torch.float16,\n",
    "    device_map=\"cuda:0\"\n",
    ")"
   ]
  },
  {
   "cell_type": "code",
   "execution_count": 3,
   "id": "f9f147d0",
   "metadata": {},
   "outputs": [],
   "source": [
    "from tqdm import tqdm\n",
    "import os\n",
    "import random"
   ]
  },
  {
   "cell_type": "code",
   "execution_count": 4,
   "id": "92e306ab",
   "metadata": {},
   "outputs": [],
   "source": [
    "with open('BM-A-pt3') as fopen:\n",
    "    text = fopen.read()\n",
    "    \n",
    "questions = []\n",
    "for t in text.split('no: ')[1:]:\n",
    "    t = t.strip()\n",
    "    no = t.split('\\n')[0]\n",
    "    objektif = t.split('objektif: ')[1].split('\\n')[0]\n",
    "    soalan = t.split('soalan:')[1].split('jawapan:')[0].strip()\n",
    "    jawapan = t.split('jawapan: ')[1].split(',')[0].strip()\n",
    "    data = {\n",
    "        'no': no,\n",
    "        'objektif': objektif,\n",
    "        'soalan': soalan,\n",
    "        'jawapan': jawapan,\n",
    "    }\n",
    "    questions.append(data)"
   ]
  },
  {
   "cell_type": "code",
   "execution_count": 5,
   "id": "8cd34f51",
   "metadata": {},
   "outputs": [],
   "source": [
    "arange = set(range(len(questions)))"
   ]
  },
  {
   "cell_type": "code",
   "execution_count": 6,
   "id": "7d4ba876",
   "metadata": {},
   "outputs": [],
   "source": [
    "def convert_prompt(row, answer = False):\n",
    "    if answer:\n",
    "        prompt = f\"\"\"\n",
    "objektif: {row['objektif']}\n",
    "soalan: {row['soalan']}\n",
    "jawapan: {row['jawapan']}\n",
    "    \"\"\"\n",
    "    else:\n",
    "        prompt = f\"\"\"\n",
    "objektif: {row['objektif']}\n",
    "soalan: {row['soalan']}\n",
    "jawapan:\n",
    "    \"\"\"\n",
    "    return prompt.strip()"
   ]
  },
  {
   "cell_type": "code",
   "execution_count": 7,
   "id": "ce790522",
   "metadata": {},
   "outputs": [
    {
     "name": "stdout",
     "output_type": "stream",
     "text": [
      "Contoh soalan 1\n",
      "objektif: Baca petikan cerpen di bawah ini dengan teliti, kemudian jawab soalan-soalan yang berikut.\n",
      "soalan: Sungai Layong yang mudah banjir itu menerima tetamu. Ada yang berenang, ada juga yang duduk berceratukan di tebingnya. Ibu-ibu separuh umur\n",
      "terbongkok-bongkok mencuci pinggan-mangkuk. Anak-anak muda sibuk\n",
      "mengangkat air. Ada yang sempat mengusik seorang dua anak gadis yang menuju\n",
      "ke sungai. Beluntung membeliakkan matanya. Apa yang terjadi? Mengapa tiba-tiba\n",
      "sahaja orang kampung berada di halaman rumahnya?\n",
      "\n",
      "Tuyog mendengus mengejutkan budak-budak yang mandi di sungai. Mereka\n",
      "segera naik ke tebing. Jantung Beluntung berdebar-debar. Perasaan ingin tahu\n",
      "menguasai hatinya. Dia terjun dari belakang Tuyog lalu berlari ke rumah. \n",
      "\n",
      "\"Mana ibu?\" Mereka yang berada di dalam rumah itu tertinjau-tinjau ke arahnya. \"Ibu kamu di dapur memasak.\" Beluntung diam dan terus ke dapur. Dia mendapati\n",
      "ibu tertawa riang bersama jiran-jiran. \n",
      "\n",
      "Beluntung memeluk ibunya sebelum keluar meninggalkan mereka. Dia\n",
      "tersenyum sendirian. Ibu sihat rupanya, katanya dalam hati. Akan tetapi hatinya\n",
      "masih tertanya-tanya kenapa ramai orang di rumahnya? Dia mencari-cari bapanya. Bapanya hanya duduk tenang sesekali tergelak mendengar perbualan\n",
      "rakan-rakannya di halaman rumah. \n",
      "\n",
      "\"Kenapa ramai orang di sini?\"\n",
      "\n",
      "\"Kau lulus, nak. Bapa gembira. Kita adakan kenduri.\" Beluntung tersenyum lagi. Dia mendengar Bawod menjerit-jerit. Dia berlari tetapi terlanggar tunggul kayu. Beluntung tersungkur dan tidak sedarkan diri buat beberapa seketika. Setelah sedar, dia berada di pangkuan bapanya. \n",
      "\n",
      "(Dipetik daripada Bawod, antologi Bintang Hati Tingkatan 3, Dewan Bahasa dan Pustaka.)\n",
      "\n",
      "Bagaimanakah perasaan Beluntung ketika ramai orang kampung berada di halaman rumahnya?\n",
      "\n",
      "A. Beluntung terlalu risau terhadap keselamatan ibu dan bapanya.\n",
      "B. Beluntung berasa gembira. \n",
      "C. Hati Beluntung tertanya-tanya perkara yang terjadi di rumahnya.\n",
      "D. Jantung Beluntung berdenyut-denyut.\n",
      "jawapan: C\n",
      "\n",
      "objektif: Lengkapkan ayat-ayat yang berikut dengan memilih jawapan yang paling sesuai.\n",
      "soalan: Para ___ tanah air telah dihantar ke negara Jepun untuk membantu mangsa gempa bumi dan tsunami.\n",
      "A. hartawan\n",
      "B. dermawan\n",
      "C. bangsawan\n",
      "D. sukarelawan\n",
      "jawapan:\n"
     ]
    },
    {
     "name": "stderr",
     "output_type": "stream",
     "text": [
      "/tmp/ipykernel_5840/1150135202.py:2: DeprecationWarning: Sampling from a set deprecated\n",
      "since Python 3.9 and will be removed in a subsequent version.\n",
      "  shots = random.sample(arange - {i}, 1)\n"
     ]
    }
   ],
   "source": [
    "i = 0\n",
    "shots = random.sample(arange - {i}, 1)\n",
    "prompts = []\n",
    "for no, s in enumerate(shots):\n",
    "    prompts.append(f'Contoh soalan {no + 1}\\n' + convert_prompt(questions[s], answer = True))\n",
    "\n",
    "prompts.append(convert_prompt(questions[i]))\n",
    "prompt = '\\n\\n'.join(prompts)\n",
    "print(prompt)"
   ]
  },
  {
   "cell_type": "code",
   "execution_count": 8,
   "id": "a9201a5e",
   "metadata": {},
   "outputs": [
    {
     "data": {
      "text/plain": [
       "{'input_ids': tensor([[ 1281,   517, 29882,   577,   284,   273, 29871, 29896,    13,   711,\n",
       "          9761,   361, 29901,   350, 11989,  5697,  7941,  5147,  2238,   652,\n",
       "           289,  1450,   801,   297, 29875,   972,  6249, 13547,  4812, 29892,\n",
       "           413,   331,   566,   713,   432,  1450,   370,   577,   284,   273,\n",
       "         29899,   578,   284,   273,   343,   574,  7655,   638,   329, 29889,\n",
       "            13,   578,   284,   273, 29901,   317,   686,  1794,   365,   388,\n",
       "           549,   343,   574, 17439,   801,  9892, 29926,   381,   372, 29884,\n",
       "           286,   759,  2946,   260,   300,   314, 29884, 29889, 23255,   343,\n",
       "           574,   289,  4578,   574, 29892,   594, 29874,  8740, 29874,   343,\n",
       "           574,   270,   566,  2679,  7655,  2265,   271,  2679,   273,   652,\n",
       "           734, 10549,  1460, 29874, 29889,   306,  2423, 29899,   747, 29884,\n",
       "          2903, 16099,  1922,   332,    13,   357, 29890,   549, 29895,   554,\n",
       "         29899, 29890,   549, 29895,   554,  1757,  4979,   455, 24543,  6249,\n",
       "         29899, 29885,   574,  2120, 29895, 29889,   530,   557, 29899,   273,\n",
       "           557,   286,  6191, 27767,  2679,    13, 29885,   996,   574, 29895,\n",
       "           271,  4799, 29889, 23255,   343,   574,  3031,  5031,   286,   996,\n",
       "           375,   638,   409,   272,   574,   868, 29874,   385,   557,   330,\n",
       "           328,   275,   343,   574,  6143,  4900,    13,   446,   269,   686,\n",
       "          1794, 29889,  3741,  1657,   686,  3813, 18556,  6859,   273,  1775,\n",
       "         20912, 29889,   319,  3274,   343,   574,  1935, 29926, 10129, 29973,\n",
       "           341,   996, 14274,   260, 16912, 29899, 29873, 16912,    13, 29879,\n",
       "           801,  9919,   470,   574,   413,  1160,   686,  7655,  1114,   652,\n",
       "          8870, 13533, 16558,   801,  1460, 29874, 29973,    13,    13, 29911,\n",
       "          8631,   468,   286,   355,   996,   375,  1757,   479, 29926,   329,\n",
       "         11052,  8619,   557, 29899, 15841,   557,   343,   574,  9619, 29875,\n",
       "           652,   269,   686,  1794, 29889,   341,   406,  1335,    13,   344,\n",
       "           914, 29874,  1055,   638,  1589,   734, 10549, 29889,   435,   424,\n",
       "           686,  3741,  1657,   686,  7655,   311,  1646, 29899,   311,  1646,\n",
       "         29889,  2431, 11290,   273,  2348,   262,   260, 29017,    13, 29885,\n",
       "         19636,   294,  1794,  3056,   262,  3761, 29889, 22866,  1935, 29926,\n",
       "           348,   270,  1306,  1339,   557,   574,   323,  8631,   468,   301,\n",
       "         22349,  7655, 29880,  1306,  1589, 16558,   801, 29889, 29871,    13,\n",
       "            13, 29908, 29924,  1648,   474,  2423,  3026,   341,   406,  1335,\n",
       "           343,   574,  7655,  1114,   652,  2959,   314, 16558,   801,   372,\n",
       "         29884,   260,   814,   262, 29926,   585, 29899, 29873,   262, 29926,\n",
       "           585,  1589,   263, 19856,  1460, 29874, 29889,   376, 29902,  2423,\n",
       "          9286, 29884,   652,   270,   481,   332,  2626,   294,   557,  1213,\n",
       "          3741,  1657,   686, 11502,  6025,  1935,   375,  1589,   270,   481,\n",
       "           332, 29889, 22866,   286,   355,   481,  2219,    13,   747, 29884,\n",
       "           260,   814, 10011, 10107,   574,   289,   414,  3304,   432,   381,\n",
       "           273, 29899, 29926,   381,   273, 29889, 29871,    13,    13, 21140,\n",
       "          1657,   686,  2626,   295,  2679,   474, 29890, 26156,   409,  6596,\n",
       "           398,   413,   295, 29884,   279,  1757,   292, 29887,  2235,   273,\n",
       "         15187,  1335, 29889, 22866,    13,  2153, 15274,   398,  3638, 29875,\n",
       "          6392, 29889,   306,  2423,  1354,  2455,   364,   786, 20912, 29892,\n",
       "         29466, 20912,  2959,   314,   298,  2219, 29889, 10813,   273,   260,\n",
       "           300,  2754,  3056,   262,  3761,    13,  8247,  4861,   260,   814,\n",
       "         20912, 29899, 29873, 20912,   413,   264, 14274, 13472,  1794,   470,\n",
       "           574,   652, 16558,   801,  1460, 29874, 29973, 22866,  1757, 29883,\n",
       "          1306, 29899, 29883,  1306,   289,   481, 20912, 29889,   350,   481,\n",
       "         20912,   298, 20912,   270,   566,  2679,  3006,   574,   269,   968,\n",
       "         29895,  2606,  1935,  7467,   557,   286,   355,   996,   279,   639,\n",
       "         29890,   950,   273,    13,  4442,   273, 29899,  4442,   812,  3761,\n",
       "           652,  8870, 13533, 16558,   801, 29889, 29871,    13,    13, 29908,\n",
       "         29968,   264, 14274, 13472,  1794,   470,   574,   652,   269,  2172,\n",
       "          3026,    13,    13, 29908, 29968,   585,   301, 14999, 29892, 23349,\n",
       "         29889,   350, 14274,   330,  1590,  3055, 29889,   476,  2028,   594,\n",
       "           557,   273,   413,   355,  5338,  1213,  3741,  1657,   686,   260,\n",
       "           414, 15274,   398, 11755, 29875, 29889, 22866,   286,   355,   996,\n",
       "           279,   350,  1450,   397,  1757,  6846,   277, 29899,  6846,   277,\n",
       "         29889, 22866,  7655, 29880,  1306,   260,   300,  2754,  1935,  3893,\n",
       "          5397,   260,   686, 29887,   352,   413,   388, 29884, 29889,  3741,\n",
       "          1657,   686,   260,   414,   686, 23843,  6025, 10668,   557,  7048,\n",
       "           935,   273,   652,   374,  1321,   271,   367,   495, 14274,   409,\n",
       "          7873,  4106, 29889,  3789,   295,   801,  7048,   279, 29892,  9766,\n",
       "          7655,  1114,   652,   282,   574,  2120,   273,   289,   481, 20912,\n",
       "         29889, 29871,    13,    13, 29898, 29928,   666,   300,   638,  5424,\n",
       "           666,  1114,   350,  1450,   397, 29892,  3677,  1189, 29875,   350,\n",
       "           524,   574,   379,  2219,   323,   292, 29895, 23402, 29871, 29941,\n",
       "         29892,   360,   809,   273, 15174, 11290,  6025,   349,   504,  8245,\n",
       "          1846,    13,    13, 29933,  7781, 25895,   557,   801,   639, 11290,\n",
       "           273,  3741,  1657,   686,   413,   300,  4106, 13472,  1794,   470,\n",
       "           574,   413,  1160,   686,  7655,  1114,   652,  8870, 13533, 16558,\n",
       "           801,  1460, 29874, 29973,    13,    13, 29909, 29889,  3741,  1657,\n",
       "           686,  1935, 29880, 22349,  5161,   585,  1935, 21312,   481,   413,\n",
       "           267,   295,   314, 23402,   474,  2423,  6025,   289,   481, 20912,\n",
       "         29889,    13, 29933, 29889,  3741,  1657,   686,  7655, 11290,   330,\n",
       "          1590,  3055, 29889, 29871,    13, 29907, 29889,   379,  2219,  3741,\n",
       "          1657,   686,   260,   814, 20912, 29899, 29873, 20912,   639, 29895,\n",
       "          2518,   343,   574,  1935, 29926, 10129,   652, 16558,   801,  1460,\n",
       "         29874, 29889,    13, 29928, 29889,   435,   424,   686,  3741,  1657,\n",
       "           686,  7655,  1145, 29891,   329, 29899,  1145, 29891,   329, 29889,\n",
       "            13, 29926,  1450, 21419, 29901,   315,    13,    13,   711,  9761,\n",
       "           361, 29901,   365,   996, 21474, 11052, 10156,   271, 29899,   388,\n",
       "           271,   343,   574,  7655,   638,   329,   972,  6249,  2626,  2638,\n",
       "         29882,   432,  1450, 21419,   343,   574,  5112,   292,  3999, 29884,\n",
       "          1794, 29889,    13,   578,   284,   273, 29901, 12994,   903,  1649,\n",
       "         10345,   801,  4799, 13547,   801,   652, 29882,   424,   279,  1589,\n",
       "          3480,  2518,   435,  1022,   348,   443, 29873,  2679,  3813,   424,\n",
       "         29884, 25016,  4977,  7055,  3274,   289, 15547,  6025,   260, 11445,\n",
       "          4479, 29889,    13, 29909, 29889,   298,   442,  1450,   273,    13,\n",
       "         29933, 29889,   589,   655, 11440,    13, 29907, 29889,   289, 25128,\n",
       "          1450,   273,    13, 29928, 29889,   480, 29895,   598, 10653,   273,\n",
       "            13, 29926,  1450, 21419, 29901]], device='cuda:0'), 'attention_mask': tensor([[1, 1, 1, 1, 1, 1, 1, 1, 1, 1, 1, 1, 1, 1, 1, 1, 1, 1, 1, 1, 1, 1, 1, 1,\n",
       "         1, 1, 1, 1, 1, 1, 1, 1, 1, 1, 1, 1, 1, 1, 1, 1, 1, 1, 1, 1, 1, 1, 1, 1,\n",
       "         1, 1, 1, 1, 1, 1, 1, 1, 1, 1, 1, 1, 1, 1, 1, 1, 1, 1, 1, 1, 1, 1, 1, 1,\n",
       "         1, 1, 1, 1, 1, 1, 1, 1, 1, 1, 1, 1, 1, 1, 1, 1, 1, 1, 1, 1, 1, 1, 1, 1,\n",
       "         1, 1, 1, 1, 1, 1, 1, 1, 1, 1, 1, 1, 1, 1, 1, 1, 1, 1, 1, 1, 1, 1, 1, 1,\n",
       "         1, 1, 1, 1, 1, 1, 1, 1, 1, 1, 1, 1, 1, 1, 1, 1, 1, 1, 1, 1, 1, 1, 1, 1,\n",
       "         1, 1, 1, 1, 1, 1, 1, 1, 1, 1, 1, 1, 1, 1, 1, 1, 1, 1, 1, 1, 1, 1, 1, 1,\n",
       "         1, 1, 1, 1, 1, 1, 1, 1, 1, 1, 1, 1, 1, 1, 1, 1, 1, 1, 1, 1, 1, 1, 1, 1,\n",
       "         1, 1, 1, 1, 1, 1, 1, 1, 1, 1, 1, 1, 1, 1, 1, 1, 1, 1, 1, 1, 1, 1, 1, 1,\n",
       "         1, 1, 1, 1, 1, 1, 1, 1, 1, 1, 1, 1, 1, 1, 1, 1, 1, 1, 1, 1, 1, 1, 1, 1,\n",
       "         1, 1, 1, 1, 1, 1, 1, 1, 1, 1, 1, 1, 1, 1, 1, 1, 1, 1, 1, 1, 1, 1, 1, 1,\n",
       "         1, 1, 1, 1, 1, 1, 1, 1, 1, 1, 1, 1, 1, 1, 1, 1, 1, 1, 1, 1, 1, 1, 1, 1,\n",
       "         1, 1, 1, 1, 1, 1, 1, 1, 1, 1, 1, 1, 1, 1, 1, 1, 1, 1, 1, 1, 1, 1, 1, 1,\n",
       "         1, 1, 1, 1, 1, 1, 1, 1, 1, 1, 1, 1, 1, 1, 1, 1, 1, 1, 1, 1, 1, 1, 1, 1,\n",
       "         1, 1, 1, 1, 1, 1, 1, 1, 1, 1, 1, 1, 1, 1, 1, 1, 1, 1, 1, 1, 1, 1, 1, 1,\n",
       "         1, 1, 1, 1, 1, 1, 1, 1, 1, 1, 1, 1, 1, 1, 1, 1, 1, 1, 1, 1, 1, 1, 1, 1,\n",
       "         1, 1, 1, 1, 1, 1, 1, 1, 1, 1, 1, 1, 1, 1, 1, 1, 1, 1, 1, 1, 1, 1, 1, 1,\n",
       "         1, 1, 1, 1, 1, 1, 1, 1, 1, 1, 1, 1, 1, 1, 1, 1, 1, 1, 1, 1, 1, 1, 1, 1,\n",
       "         1, 1, 1, 1, 1, 1, 1, 1, 1, 1, 1, 1, 1, 1, 1, 1, 1, 1, 1, 1, 1, 1, 1, 1,\n",
       "         1, 1, 1, 1, 1, 1, 1, 1, 1, 1, 1, 1, 1, 1, 1, 1, 1, 1, 1, 1, 1, 1, 1, 1,\n",
       "         1, 1, 1, 1, 1, 1, 1, 1, 1, 1, 1, 1, 1, 1, 1, 1, 1, 1, 1, 1, 1, 1, 1, 1,\n",
       "         1, 1, 1, 1, 1, 1, 1, 1, 1, 1, 1, 1, 1, 1, 1, 1, 1, 1, 1, 1, 1, 1, 1, 1,\n",
       "         1, 1, 1, 1, 1, 1, 1, 1, 1, 1, 1, 1, 1, 1, 1, 1, 1, 1, 1, 1, 1, 1, 1, 1,\n",
       "         1, 1, 1, 1, 1, 1, 1, 1, 1, 1, 1, 1, 1, 1, 1, 1, 1, 1, 1, 1, 1, 1, 1, 1,\n",
       "         1, 1, 1, 1, 1, 1, 1, 1, 1, 1, 1, 1, 1, 1, 1, 1, 1, 1, 1, 1, 1, 1, 1, 1,\n",
       "         1, 1, 1, 1, 1, 1, 1, 1, 1, 1, 1, 1, 1, 1, 1, 1, 1, 1, 1, 1, 1, 1, 1, 1,\n",
       "         1, 1, 1, 1, 1, 1, 1, 1, 1, 1, 1, 1, 1, 1, 1, 1, 1, 1, 1, 1, 1, 1, 1, 1,\n",
       "         1, 1, 1, 1, 1, 1, 1, 1, 1, 1, 1, 1, 1, 1, 1, 1, 1, 1, 1, 1, 1, 1, 1, 1,\n",
       "         1, 1, 1, 1, 1, 1, 1, 1, 1, 1, 1, 1, 1, 1, 1, 1, 1, 1, 1, 1, 1, 1, 1, 1,\n",
       "         1, 1, 1, 1, 1, 1, 1, 1, 1, 1, 1, 1, 1, 1, 1, 1, 1, 1, 1, 1, 1, 1, 1, 1,\n",
       "         1, 1, 1, 1, 1, 1, 1, 1, 1, 1, 1, 1, 1, 1, 1, 1, 1, 1, 1, 1, 1, 1, 1, 1,\n",
       "         1, 1, 1, 1, 1, 1, 1, 1, 1, 1, 1, 1, 1, 1, 1, 1, 1, 1, 1, 1, 1, 1, 1, 1,\n",
       "         1, 1, 1, 1, 1, 1, 1, 1, 1, 1, 1, 1, 1, 1, 1, 1, 1, 1, 1, 1, 1, 1, 1, 1,\n",
       "         1, 1, 1, 1, 1, 1, 1, 1, 1, 1, 1, 1, 1, 1, 1, 1, 1, 1, 1, 1, 1, 1, 1, 1,\n",
       "         1, 1, 1, 1, 1, 1, 1, 1, 1, 1, 1, 1, 1, 1, 1, 1, 1, 1, 1, 1, 1, 1, 1, 1,\n",
       "         1, 1, 1, 1, 1, 1, 1, 1, 1, 1, 1, 1, 1, 1, 1, 1, 1, 1, 1, 1, 1, 1, 1, 1,\n",
       "         1, 1, 1, 1, 1, 1, 1, 1, 1, 1, 1, 1, 1, 1, 1, 1, 1, 1, 1, 1, 1, 1, 1, 1,\n",
       "         1, 1, 1, 1, 1, 1, 1, 1, 1, 1, 1, 1, 1, 1, 1, 1, 1, 1, 1, 1, 1, 1, 1, 1,\n",
       "         1, 1, 1, 1, 1, 1, 1, 1, 1, 1, 1, 1, 1, 1, 1, 1, 1, 1, 1, 1, 1, 1, 1]],\n",
       "       device='cuda:0')}"
      ]
     },
     "execution_count": 8,
     "metadata": {},
     "output_type": "execute_result"
    }
   ],
   "source": [
    "inputs = tokenizer([prompt], return_tensors='pt', add_special_tokens=False).to('cuda')\n",
    "inputs"
   ]
  },
  {
   "cell_type": "code",
   "execution_count": 9,
   "id": "b32bbe7e",
   "metadata": {},
   "outputs": [
    {
     "name": "stdout",
     "output_type": "stream",
     "text": [
      "['A�']\n"
     ]
    }
   ],
   "source": [
    "generate_kwargs = dict(\n",
    "    inputs,\n",
    "    max_new_tokens=3,\n",
    "    top_p=0.95,\n",
    "    top_k=50,\n",
    "    temperature=0.1,\n",
    "    do_sample=True,\n",
    "    num_beams=1,\n",
    "    repetition_penalty=1.05,\n",
    ")\n",
    "r = model.generate(**generate_kwargs)\n",
    "print(tokenizer.decode(r[0]).split('jawapan:')[-1].strip().split())"
   ]
  },
  {
   "cell_type": "code",
   "execution_count": 10,
   "id": "e9649145",
   "metadata": {},
   "outputs": [
    {
     "name": "stderr",
     "output_type": "stream",
     "text": [
      "  0%|          | 0/54 [00:00<?, ?it/s]/tmp/ipykernel_5840/651496052.py:2: DeprecationWarning: Sampling from a set deprecated\n",
      "since Python 3.9 and will be removed in a subsequent version.\n",
      "  shots = random.sample(arange - {i}, 1)\n",
      "100%|██████████| 54/54 [00:26<00:00,  2.02it/s]\n"
     ]
    }
   ],
   "source": [
    "for i in tqdm(range(len(questions))):\n",
    "    shots = random.sample(arange - {i}, 1)\n",
    "    prompts = []\n",
    "    for no, s in enumerate(shots):\n",
    "        prompts.append(f'Contoh soalan {no + 1}\\n' + convert_prompt(questions[s], answer = True))\n",
    "\n",
    "    prompts.append(convert_prompt(questions[i]))\n",
    "    prompt = '\\n\\n'.join(prompts)\n",
    "    inputs = tokenizer([prompt], return_tensors='pt', add_special_tokens=False).to('cuda')\n",
    "    repeat = []\n",
    "    for _ in range(3):\n",
    "        try:\n",
    "            generate_kwargs = dict(\n",
    "                inputs,\n",
    "                max_new_tokens=3,\n",
    "                top_p=0.95,\n",
    "                top_k=50,\n",
    "                temperature=0.5,\n",
    "                do_sample=True,\n",
    "                num_beams=1,\n",
    "                repetition_penalty=1.05,\n",
    "            )\n",
    "            r = model.generate(**generate_kwargs)\n",
    "            r = tokenizer.decode(r[0]).split('jawapan:')[1].strip().split()\n",
    "            repeat.append(r[0].replace('.', '').replace('</s>', '').split('\\\\')[0].split('/')[0])\n",
    "    \n",
    "        except Exception as e:\n",
    "            print(e)\n",
    "            pass\n",
    "    \n",
    "    questions[i]['output'] = repeat"
   ]
  },
  {
   "cell_type": "code",
   "execution_count": 11,
   "id": "03055c8f",
   "metadata": {},
   "outputs": [],
   "source": [
    "import json\n",
    "\n",
    "with open('output-1shot-llama2-13b-32k.json', 'w') as fopen:\n",
    "    json.dump(questions, fopen)"
   ]
  },
  {
   "cell_type": "code",
   "execution_count": 12,
   "id": "1dc2a384",
   "metadata": {},
   "outputs": [],
   "source": [
    "def most_common(l):\n",
    "    return max(set(l), key=l.count)"
   ]
  },
  {
   "cell_type": "code",
   "execution_count": 14,
   "id": "04314a44",
   "metadata": {},
   "outputs": [
    {
     "data": {
      "text/plain": [
       "24.074074074074073"
      ]
     },
     "execution_count": 14,
     "metadata": {},
     "output_type": "execute_result"
    }
   ],
   "source": [
    "filtered = [q for q in questions if 'output' in q]\n",
    "correct = 0\n",
    "for q in filtered:\n",
    "    correct += most_common(q['output']) == q['jawapan']\n",
    "(correct / len(filtered)) * 100"
   ]
  },
  {
   "cell_type": "code",
   "execution_count": null,
   "id": "fb785bd9",
   "metadata": {},
   "outputs": [],
   "source": []
  }
 ],
 "metadata": {
  "kernelspec": {
   "display_name": "Python 3 (ipykernel)",
   "language": "python",
   "name": "python3"
  },
  "language_info": {
   "codemirror_mode": {
    "name": "ipython",
    "version": 3
   },
   "file_extension": ".py",
   "mimetype": "text/x-python",
   "name": "python",
   "nbconvert_exporter": "python",
   "pygments_lexer": "ipython3",
   "version": "3.10.12"
  }
 },
 "nbformat": 4,
 "nbformat_minor": 5
}
