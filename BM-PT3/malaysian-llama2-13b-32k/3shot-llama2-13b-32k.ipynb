{
 "cells": [
  {
   "cell_type": "code",
   "execution_count": 1,
   "id": "2bc3b911",
   "metadata": {},
   "outputs": [],
   "source": [
    "# !wget https://raw.githubusercontent.com/mesolitica/malaysian-dataset/master/llm-benchmark/BM-pt3/BM-A-pt3"
   ]
  },
  {
   "cell_type": "code",
   "execution_count": 2,
   "id": "24c00f25",
   "metadata": {},
   "outputs": [
    {
     "name": "stdout",
     "output_type": "stream",
     "text": [
      "[2023-11-11 01:14:33,875] [INFO] [real_accelerator.py:133:get_accelerator] Setting ds_accelerator to cuda (auto detect)\n"
     ]
    },
    {
     "data": {
      "application/vnd.jupyter.widget-view+json": {
       "model_id": "fdeb2fa1410e4c13a13b37e4f17030ef",
       "version_major": 2,
       "version_minor": 0
      },
      "text/plain": [
       "Loading checkpoint shards:   0%|          | 0/3 [00:00<?, ?it/s]"
      ]
     },
     "metadata": {},
     "output_type": "display_data"
    }
   ],
   "source": [
    "from transformers import AutoTokenizer, AutoModelForCausalLM\n",
    "import torch\n",
    "\n",
    "tokenizer = AutoTokenizer.from_pretrained('mesolitica/llama-13b-hf-32768-fpf')\n",
    "model = AutoModelForCausalLM.from_pretrained(\n",
    "    'mesolitica/llama-13b-hf-32768-fpf', \n",
    "    use_flash_attention_2 = True, \n",
    "    torch_dtype = torch.float16,\n",
    "    device_map=\"cuda:0\"\n",
    ")"
   ]
  },
  {
   "cell_type": "code",
   "execution_count": 3,
   "id": "f9f147d0",
   "metadata": {},
   "outputs": [],
   "source": [
    "from tqdm import tqdm\n",
    "import os\n",
    "import random"
   ]
  },
  {
   "cell_type": "code",
   "execution_count": 4,
   "id": "92e306ab",
   "metadata": {},
   "outputs": [],
   "source": [
    "with open('BM-A-pt3') as fopen:\n",
    "    text = fopen.read()\n",
    "    \n",
    "questions = []\n",
    "for t in text.split('no: ')[1:]:\n",
    "    t = t.strip()\n",
    "    no = t.split('\\n')[0]\n",
    "    objektif = t.split('objektif: ')[1].split('\\n')[0]\n",
    "    soalan = t.split('soalan:')[1].split('jawapan:')[0].strip()\n",
    "    jawapan = t.split('jawapan: ')[1].split(',')[0].strip()\n",
    "    data = {\n",
    "        'no': no,\n",
    "        'objektif': objektif,\n",
    "        'soalan': soalan,\n",
    "        'jawapan': jawapan,\n",
    "    }\n",
    "    questions.append(data)"
   ]
  },
  {
   "cell_type": "code",
   "execution_count": 5,
   "id": "8cd34f51",
   "metadata": {},
   "outputs": [],
   "source": [
    "arange = set(range(len(questions)))"
   ]
  },
  {
   "cell_type": "code",
   "execution_count": 6,
   "id": "7d4ba876",
   "metadata": {},
   "outputs": [],
   "source": [
    "def convert_prompt(row, answer = False):\n",
    "    if answer:\n",
    "        prompt = f\"\"\"\n",
    "objektif: {row['objektif']}\n",
    "soalan: {row['soalan']}\n",
    "jawapan: {row['jawapan']}\n",
    "    \"\"\"\n",
    "    else:\n",
    "        prompt = f\"\"\"\n",
    "objektif: {row['objektif']}\n",
    "soalan: {row['soalan']}\n",
    "jawapan:\n",
    "    \"\"\"\n",
    "    return prompt.strip()"
   ]
  },
  {
   "cell_type": "code",
   "execution_count": 7,
   "id": "ce790522",
   "metadata": {},
   "outputs": [
    {
     "name": "stdout",
     "output_type": "stream",
     "text": [
      "Contoh soalan 1\n",
      "objektif: Pilih peribahasa atau maksud peribahasa yang paling sesuai.\n",
      "soalan: Walaupun sudah beberapa kali dinasihatkan oleh guru, Aiman tetap malas mengulang kaji peiajarannya.\n",
      "Peribahasa yang sesuai dengan pernyataan di atas ialah\n",
      "\n",
      "A. melepaskan batuk di tangga\n",
      "B. mencurah air ke daun keladi\n",
      "C. alang-alang berdakwat biar hitam\n",
      "D. pendayung sudah di tangan, perahu sudah di air\n",
      "jawapan: B\n",
      "\n",
      "Contoh soalan 2\n",
      "objektif: Bahagian yang di dalam kurungan dalam ayat-ayat yang berikut mungkin mengandungi kesalahan bahasa dan mungkin juga tidak. Tandakan sama ada A, B atau C jika ayat itu mengandungi kesalahan dan tandakan D jika tiada kesalahan.\n",
      "soalan: Halimah percaya (percaya benar) anaknya tidak terbabit dengan tuduhan jenayah kolar putih.\n",
      "A. sungguh percaya benar\n",
      "B. teramat percaya benar\n",
      "C. sangat percaya benar\n",
      "D. percaya benar\n",
      "jawapan: D\n",
      "\n",
      "Contoh soalan 3\n",
      "objektif: Pilih peribahasa atau maksud peribahasa yang paling sesuai.\n",
      "soalan: Tidak ada seorang pun daripada lima orang anak Encik Majid yang mengikuti jejaknya menjadi peguam. Sebaliknya mereka mempunyai minat dan kecenderungan yang berbeza.\n",
      "Keadaan ini sesuai dengan peribahasa yang berikut kecuali\n",
      "\n",
      "A. lain padang lain belalang.\n",
      "B. rambut sama hitam, hati lain-lain.\n",
      "C. bagaimana acuan begitulah kuihnya.\n",
      "D. banyak udang banyak garam, banyak orang banyak ragam.\n",
      "jawapan: C\n",
      "\n",
      "objektif: Lengkapkan ayat-ayat yang berikut dengan memilih jawapan yang paling sesuai.\n",
      "soalan: Para ___ tanah air telah dihantar ke negara Jepun untuk membantu mangsa gempa bumi dan tsunami.\n",
      "A. hartawan\n",
      "B. dermawan\n",
      "C. bangsawan\n",
      "D. sukarelawan\n",
      "jawapan:\n"
     ]
    },
    {
     "name": "stderr",
     "output_type": "stream",
     "text": [
      "/tmp/ipykernel_399640/3037112239.py:2: DeprecationWarning: Sampling from a set deprecated\n",
      "since Python 3.9 and will be removed in a subsequent version.\n",
      "  shots = random.sample(arange - {i}, 3)\n"
     ]
    }
   ],
   "source": [
    "i = 0\n",
    "shots = random.sample(arange - {i}, 3)\n",
    "prompts = []\n",
    "for no, s in enumerate(shots):\n",
    "    prompts.append(f'Contoh soalan {no + 1}\\n' + convert_prompt(questions[s], answer = True))\n",
    "\n",
    "prompts.append(convert_prompt(questions[i]))\n",
    "prompt = '\\n\\n'.join(prompts)\n",
    "print(prompt)"
   ]
  },
  {
   "cell_type": "code",
   "execution_count": 8,
   "id": "a9201a5e",
   "metadata": {},
   "outputs": [
    {
     "data": {
      "text/plain": [
       "{'input_ids': tensor([[ 1281,   517, 29882,   577,   284,   273, 29871, 29896,    13,   711,\n",
       "          9761,   361, 29901,   349,  2638, 29882,   639,   747,   801, 11290,\n",
       "           472,   585,  2136, 29879,   566,   639,   747,   801, 11290,   343,\n",
       "           574,  5112,   292,  3999, 29884,  1794, 29889,    13,   578,   284,\n",
       "           273, 29901,  5260,   585, 29886,   348,  5053,   801,   367,   495,\n",
       "         14274,   413,  2606,  4538,  6840,  2455, 11052,   288,   280, 29882,\n",
       "           330, 20144, 29892,   319, 25895,   260,   300,   481,  4439,   294,\n",
       "           286,   996,   352,   574,   413,  1175, 29875,  1236,   423,  4758,\n",
       "           812,  3761, 29889,    13,  5894,   747,   801, 11290,   343,   574,\n",
       "          3999, 29884,  1794,   972,  6249,   639,  1460,   532,   273,   652,\n",
       "           472,   294,   474,   284,   801,    13,    13, 29909, 29889,   592,\n",
       "           280, 29886,  1278,   273, 17152,  2679,   652, 18806,  3249,    13,\n",
       "         29933, 29889,  1757,  2764,   801,  4799,  1589,  1146,   348,   413,\n",
       "           295, 10129,    13, 29907, 29889,   394,   574, 29899,   284,   574,\n",
       "           289,  2018,   557, 29893,   271,   289,  4447,  7124,   314,    13,\n",
       "         29928, 29889,   282,   355,   388,   686,  5053,   801,   652, 18806,\n",
       "           273, 29892,   639, 29017,  5053,   801,   652,  4799,    13, 29926,\n",
       "          1450, 21419, 29901,   350,    13,    13,  1168,   517, 29882,   577,\n",
       "           284,   273, 29871, 29906,    13,   711,  9761,   361, 29901, 15174,\n",
       "           351,   713,   343,   574,   652,  2959,   314, 12802,   686,   273,\n",
       "          2959,   314, 10156,   271, 29899,   388,   271,   343,   574,  7655,\n",
       "           638,   329,   286,   686,  9089,   286,   996,   392,   686, 29875,\n",
       "           413,   267,   284,   801,   273,   289,   801, 11290,  6025,   286,\n",
       "           686,  9089,  8740, 29874, 10668,   557, 29889,   323,   392,   557,\n",
       "           273,   269,  3304,   594, 29874,   319, 29892,   350,   472,   585,\n",
       "           315,   432,  4106, 10156,   271,   372, 29884,   286,   996,   392,\n",
       "           686, 29875,   413,   267,   284,   801,   273,  6025,   260,   392,\n",
       "           557,   273,   360,   432,  4106, 19538,  1114,   413,   267,   284,\n",
       "           801,   273, 29889,    13,   578,   284,   273, 29901,  8142,   326,\n",
       "           801,   639, 29883,  9010,   313,   546, 29883,  9010,  3856,   279,\n",
       "         29897,   385,   557,  1460, 29874, 10668,   557,  1935, 29890,   370,\n",
       "           277,   972,  6249, 26992, 29884,  5403,   432,   264,   388,   801,\n",
       "           413, 10170,  1925,  4861, 29889,    13, 29909, 29889,   269,   686,\n",
       "          2543, 29882,   639, 29883,  9010,  3856,   279,    13, 29933, 29889,\n",
       "          1935,   314,   271,   639, 29883,  9010,  3856,   279,    13, 29907,\n",
       "         29889, 13625,   271,   639, 29883,  9010,  3856,   279,    13, 29928,\n",
       "         29889,   639, 29883,  9010,  3856,   279,    13, 29926,  1450, 21419,\n",
       "         29901,   360,    13,    13,  1168,   517, 29882,   577,   284,   273,\n",
       "         29871, 29941,    13,   711,  9761,   361, 29901,   349,  2638, 29882,\n",
       "           639,   747,   801, 11290,   472,   585,  2136, 29879,   566,   639,\n",
       "           747,   801, 11290,   343,   574,  5112,   292,  3999, 29884,  1794,\n",
       "         29889,    13,   578,   284,   273, 29901,   323,   333,   557,   594,\n",
       "         29874,   409,   272,   574,  6035,  5424,   666,  1114,  2485, 29874,\n",
       "           470,   574,   385,   557,  1174,   455, 29895,  6973,   333,   343,\n",
       "           574,   286,   996,   638, 11321, 11215,   557,  1460, 29874,  1757,\n",
       "         29926, 10129,   282, 24024,   314, 29889, 13280,   284,   638,  1460,\n",
       "         29874, 15187,  1335,  2626, 29886,   348, 29891,  1794,  1375,   271,\n",
       "          6025,   413,   687,  1581,   686,   273,   343,   574,  7655,   915,\n",
       "          1362, 29889,    13,  9598,  1114,   273,   297, 29875,  3999, 29884,\n",
       "          1794,   972,  6249,   639,   747,   801, 11290,   343,   574,  7655,\n",
       "           638,   329,   413,   687,   950, 29875,    13,    13, 29909, 29889,\n",
       "           425,   262, 17132,   574,   425,   262,  1339,   284,   574, 29889,\n",
       "            13, 29933, 29889,   364,  1117,   329,   269,  3304,  7124,   314,\n",
       "         29892,   298,  2219,   425,   262, 29899,  7420, 29889,    13, 29907,\n",
       "         29889,   289,  7781,   326,  1648,  1274, 12323,  1812, 14193,   801,\n",
       "           413,  1481, 29882,  1460, 29874, 29889,    13, 29928, 29889,   289,\n",
       "          1384,   557, 11430,   574,   289,  1384,   557,  7171,   314, 29892,\n",
       "           289,  1384,   557,   470,   574,   289,  1384,   557, 17052,   314,\n",
       "         29889,    13, 29926,  1450, 21419, 29901,   315,    13,    13,   711,\n",
       "          9761,   361, 29901,   365,   996, 21474, 11052, 10156,   271, 29899,\n",
       "           388,   271,   343,   574,  7655,   638,   329,   972,  6249,  2626,\n",
       "          2638, 29882,   432,  1450, 21419,   343,   574,  5112,   292,  3999,\n",
       "         29884,  1794, 29889,    13,   578,   284,   273, 29901, 12994,   903,\n",
       "          1649, 10345,   801,  4799, 13547,   801,   652, 29882,   424,   279,\n",
       "          1589,  3480,  2518,   435,  1022,   348,   443, 29873,  2679,  3813,\n",
       "           424, 29884, 25016,  4977,  7055,  3274,   289, 15547,  6025,   260,\n",
       "         11445,  4479, 29889,    13, 29909, 29889,   298,   442,  1450,   273,\n",
       "            13, 29933, 29889,   589,   655, 11440,    13, 29907, 29889,   289,\n",
       "         25128,  1450,   273,    13, 29928, 29889,   480, 29895,   598, 10653,\n",
       "           273,    13, 29926,  1450, 21419, 29901]], device='cuda:0'), 'attention_mask': tensor([[1, 1, 1, 1, 1, 1, 1, 1, 1, 1, 1, 1, 1, 1, 1, 1, 1, 1, 1, 1, 1, 1, 1, 1,\n",
       "         1, 1, 1, 1, 1, 1, 1, 1, 1, 1, 1, 1, 1, 1, 1, 1, 1, 1, 1, 1, 1, 1, 1, 1,\n",
       "         1, 1, 1, 1, 1, 1, 1, 1, 1, 1, 1, 1, 1, 1, 1, 1, 1, 1, 1, 1, 1, 1, 1, 1,\n",
       "         1, 1, 1, 1, 1, 1, 1, 1, 1, 1, 1, 1, 1, 1, 1, 1, 1, 1, 1, 1, 1, 1, 1, 1,\n",
       "         1, 1, 1, 1, 1, 1, 1, 1, 1, 1, 1, 1, 1, 1, 1, 1, 1, 1, 1, 1, 1, 1, 1, 1,\n",
       "         1, 1, 1, 1, 1, 1, 1, 1, 1, 1, 1, 1, 1, 1, 1, 1, 1, 1, 1, 1, 1, 1, 1, 1,\n",
       "         1, 1, 1, 1, 1, 1, 1, 1, 1, 1, 1, 1, 1, 1, 1, 1, 1, 1, 1, 1, 1, 1, 1, 1,\n",
       "         1, 1, 1, 1, 1, 1, 1, 1, 1, 1, 1, 1, 1, 1, 1, 1, 1, 1, 1, 1, 1, 1, 1, 1,\n",
       "         1, 1, 1, 1, 1, 1, 1, 1, 1, 1, 1, 1, 1, 1, 1, 1, 1, 1, 1, 1, 1, 1, 1, 1,\n",
       "         1, 1, 1, 1, 1, 1, 1, 1, 1, 1, 1, 1, 1, 1, 1, 1, 1, 1, 1, 1, 1, 1, 1, 1,\n",
       "         1, 1, 1, 1, 1, 1, 1, 1, 1, 1, 1, 1, 1, 1, 1, 1, 1, 1, 1, 1, 1, 1, 1, 1,\n",
       "         1, 1, 1, 1, 1, 1, 1, 1, 1, 1, 1, 1, 1, 1, 1, 1, 1, 1, 1, 1, 1, 1, 1, 1,\n",
       "         1, 1, 1, 1, 1, 1, 1, 1, 1, 1, 1, 1, 1, 1, 1, 1, 1, 1, 1, 1, 1, 1, 1, 1,\n",
       "         1, 1, 1, 1, 1, 1, 1, 1, 1, 1, 1, 1, 1, 1, 1, 1, 1, 1, 1, 1, 1, 1, 1, 1,\n",
       "         1, 1, 1, 1, 1, 1, 1, 1, 1, 1, 1, 1, 1, 1, 1, 1, 1, 1, 1, 1, 1, 1, 1, 1,\n",
       "         1, 1, 1, 1, 1, 1, 1, 1, 1, 1, 1, 1, 1, 1, 1, 1, 1, 1, 1, 1, 1, 1, 1, 1,\n",
       "         1, 1, 1, 1, 1, 1, 1, 1, 1, 1, 1, 1, 1, 1, 1, 1, 1, 1, 1, 1, 1, 1, 1, 1,\n",
       "         1, 1, 1, 1, 1, 1, 1, 1, 1, 1, 1, 1, 1, 1, 1, 1, 1, 1, 1, 1, 1, 1, 1, 1,\n",
       "         1, 1, 1, 1, 1, 1, 1, 1, 1, 1, 1, 1, 1, 1, 1, 1, 1, 1, 1, 1, 1, 1, 1, 1,\n",
       "         1, 1, 1, 1, 1, 1, 1, 1, 1, 1, 1, 1, 1, 1, 1, 1, 1, 1, 1, 1, 1, 1, 1, 1,\n",
       "         1, 1, 1, 1, 1, 1, 1, 1, 1, 1, 1, 1, 1, 1, 1, 1, 1, 1, 1, 1, 1, 1, 1, 1,\n",
       "         1, 1, 1, 1, 1, 1, 1, 1, 1, 1, 1, 1, 1, 1, 1, 1, 1, 1, 1, 1, 1, 1, 1, 1,\n",
       "         1, 1, 1, 1, 1, 1, 1, 1, 1, 1, 1, 1, 1, 1, 1, 1, 1, 1, 1, 1, 1, 1, 1, 1,\n",
       "         1, 1, 1, 1, 1, 1, 1, 1, 1, 1, 1, 1, 1, 1, 1, 1, 1, 1, 1, 1, 1, 1, 1, 1,\n",
       "         1, 1, 1, 1, 1, 1, 1, 1, 1, 1, 1, 1, 1, 1, 1, 1, 1, 1, 1, 1, 1, 1, 1, 1,\n",
       "         1, 1, 1, 1, 1, 1, 1, 1, 1, 1, 1, 1, 1, 1, 1, 1, 1, 1, 1, 1, 1, 1, 1, 1,\n",
       "         1, 1, 1, 1, 1, 1, 1, 1, 1, 1, 1, 1, 1, 1, 1, 1, 1, 1, 1, 1, 1, 1, 1, 1,\n",
       "         1, 1, 1, 1, 1, 1, 1, 1, 1, 1, 1, 1, 1, 1, 1, 1, 1, 1, 1, 1, 1, 1, 1, 1,\n",
       "         1, 1, 1, 1, 1, 1, 1, 1, 1, 1, 1, 1, 1, 1, 1, 1, 1, 1, 1, 1, 1, 1, 1, 1]],\n",
       "       device='cuda:0')}"
      ]
     },
     "execution_count": 8,
     "metadata": {},
     "output_type": "execute_result"
    }
   ],
   "source": [
    "inputs = tokenizer([prompt], return_tensors='pt', add_special_tokens=False).to('cuda')\n",
    "inputs"
   ]
  },
  {
   "cell_type": "code",
   "execution_count": 9,
   "id": "b32bbe7e",
   "metadata": {},
   "outputs": [
    {
     "name": "stdout",
     "output_type": "stream",
     "text": [
      "['A!', '...']\n"
     ]
    }
   ],
   "source": [
    "generate_kwargs = dict(\n",
    "    inputs,\n",
    "    max_new_tokens=3,\n",
    "    top_p=0.95,\n",
    "    top_k=50,\n",
    "    temperature=0.1,\n",
    "    do_sample=True,\n",
    "    num_beams=1,\n",
    "    repetition_penalty=1.05,\n",
    ")\n",
    "r = model.generate(**generate_kwargs)\n",
    "print(tokenizer.decode(r[0]).split('jawapan:')[-1].strip().split())"
   ]
  },
  {
   "cell_type": "code",
   "execution_count": 17,
   "id": "95b664df",
   "metadata": {},
   "outputs": [],
   "source": [
    "chars = ['_', '!', '�']"
   ]
  },
  {
   "cell_type": "code",
   "execution_count": 18,
   "id": "e9649145",
   "metadata": {
    "scrolled": true
   },
   "outputs": [
    {
     "name": "stderr",
     "output_type": "stream",
     "text": [
      "  0%|          | 0/54 [00:00<?, ?it/s]/tmp/ipykernel_399640/34938998.py:2: DeprecationWarning: Sampling from a set deprecated\n",
      "since Python 3.9 and will be removed in a subsequent version.\n",
      "  shots = random.sample(arange - {i}, 1)\n",
      "100%|██████████| 54/54 [00:47<00:00,  1.14it/s]\n"
     ]
    }
   ],
   "source": [
    "for i in tqdm(range(len(questions))):\n",
    "    shots = random.sample(arange - {i}, 1)\n",
    "    prompts = []\n",
    "    for no, s in enumerate(shots):\n",
    "        prompts.append(f'Contoh soalan {no + 1}\\n' + convert_prompt(questions[s], answer = True))\n",
    "\n",
    "    prompts.append(convert_prompt(questions[i]))\n",
    "    prompt = '\\n\\n'.join(prompts)\n",
    "    inputs = tokenizer([prompt], return_tensors='pt', add_special_tokens=False).to('cuda')\n",
    "    repeat = []\n",
    "    for _ in range(5):\n",
    "        try:\n",
    "            generate_kwargs = dict(\n",
    "                inputs,\n",
    "                max_new_tokens=3,\n",
    "                top_p=0.95,\n",
    "                top_k=50,\n",
    "                temperature=0.5,\n",
    "                do_sample=True,\n",
    "                num_beams=1,\n",
    "                repetition_penalty=1.05,\n",
    "            )\n",
    "            r = model.generate(**generate_kwargs)\n",
    "            r = tokenizer.decode(r[0]).split('jawapan:')[-1].strip().split()\n",
    "            r = r[0].replace('.', '').replace('</s>', '').split('\\\\')[0].split('/')[0]\n",
    "            for c in chars:\n",
    "                r = r.replace(c, '')\n",
    "            repeat.append(r)\n",
    "    \n",
    "        except Exception as e:\n",
    "            print(e)\n",
    "            pass\n",
    "    \n",
    "    questions[i]['output'] = repeat"
   ]
  },
  {
   "cell_type": "code",
   "execution_count": 19,
   "id": "03055c8f",
   "metadata": {},
   "outputs": [],
   "source": [
    "import json\n",
    "\n",
    "with open('output-3shot-llama2-13b-32k.json', 'w') as fopen:\n",
    "    json.dump(questions, fopen)"
   ]
  },
  {
   "cell_type": "code",
   "execution_count": 20,
   "id": "f81f9023",
   "metadata": {},
   "outputs": [],
   "source": [
    "def most_common(l):\n",
    "    return max(set(l), key=l.count)"
   ]
  },
  {
   "cell_type": "code",
   "execution_count": 21,
   "id": "04314a44",
   "metadata": {},
   "outputs": [
    {
     "data": {
      "text/plain": [
       "31.48148148148148"
      ]
     },
     "execution_count": 21,
     "metadata": {},
     "output_type": "execute_result"
    }
   ],
   "source": [
    "filtered = [q for q in questions if 'output' in q]\n",
    "correct = 0\n",
    "for q in filtered:\n",
    "    correct += most_common(q['output']) == q['jawapan']\n",
    "(correct / len(filtered)) * 100"
   ]
  }
 ],
 "metadata": {
  "kernelspec": {
   "display_name": "Python 3 (ipykernel)",
   "language": "python",
   "name": "python3"
  },
  "language_info": {
   "codemirror_mode": {
    "name": "ipython",
    "version": 3
   },
   "file_extension": ".py",
   "mimetype": "text/x-python",
   "name": "python",
   "nbconvert_exporter": "python",
   "pygments_lexer": "ipython3",
   "version": "3.10.12"
  }
 },
 "nbformat": 4,
 "nbformat_minor": 5
}
