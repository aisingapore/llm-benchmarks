{
 "cells": [
  {
   "cell_type": "code",
   "execution_count": 1,
   "id": "0746741b",
   "metadata": {},
   "outputs": [],
   "source": [
    "# !wget https://raw.githubusercontent.com/mesolitica/malaysian-dataset/master/llm-benchmark/BM-pt3/BM-A-pt3"
   ]
  },
  {
   "cell_type": "code",
   "execution_count": 2,
   "id": "b6d200e3",
   "metadata": {},
   "outputs": [
    {
     "name": "stdout",
     "output_type": "stream",
     "text": [
      "[2023-11-10 06:33:03,186] [INFO] [real_accelerator.py:133:get_accelerator] Setting ds_accelerator to cuda (auto detect)\n"
     ]
    },
    {
     "data": {
      "application/vnd.jupyter.widget-view+json": {
       "model_id": "d2d0fdb8cbc544369ff26ae4c3be2796",
       "version_major": 2,
       "version_minor": 0
      },
      "text/plain": [
       "Loading checkpoint shards:   0%|          | 0/2 [00:00<?, ?it/s]"
      ]
     },
     "metadata": {},
     "output_type": "display_data"
    }
   ],
   "source": [
    "from transformers import AutoTokenizer, AutoModelForCausalLM\n",
    "import torch\n",
    "\n",
    "tokenizer = AutoTokenizer.from_pretrained('mesolitica/llama-7b-hf-32768-fpf')\n",
    "model = AutoModelForCausalLM.from_pretrained(\n",
    "    'mesolitica/llama-7b-hf-32768-fpf', \n",
    "    use_flash_attention_2 = True, \n",
    "    torch_dtype = torch.float16,\n",
    "    device_map=\"cuda:0\"\n",
    ")"
   ]
  },
  {
   "cell_type": "code",
   "execution_count": 3,
   "id": "7d16b8ef",
   "metadata": {},
   "outputs": [],
   "source": [
    "from tqdm import tqdm\n",
    "import os\n",
    "import random"
   ]
  },
  {
   "cell_type": "code",
   "execution_count": 4,
   "id": "a06177bd",
   "metadata": {},
   "outputs": [],
   "source": [
    "with open('BM-A-pt3') as fopen:\n",
    "    text = fopen.read()\n",
    "    \n",
    "questions = []\n",
    "for t in text.split('no: ')[1:]:\n",
    "    t = t.strip()\n",
    "    no = t.split('\\n')[0]\n",
    "    objektif = t.split('objektif: ')[1].split('\\n')[0]\n",
    "    soalan = t.split('soalan:')[1].split('jawapan:')[0].strip()\n",
    "    jawapan = t.split('jawapan: ')[1].split(',')[0].strip()\n",
    "    data = {\n",
    "        'no': no,\n",
    "        'objektif': objektif,\n",
    "        'soalan': soalan,\n",
    "        'jawapan': jawapan,\n",
    "    }\n",
    "    questions.append(data)"
   ]
  },
  {
   "cell_type": "code",
   "execution_count": 5,
   "id": "363cad90",
   "metadata": {},
   "outputs": [],
   "source": [
    "arange = set(range(len(questions)))"
   ]
  },
  {
   "cell_type": "code",
   "execution_count": 6,
   "id": "87bc46c3",
   "metadata": {},
   "outputs": [],
   "source": [
    "def convert_prompt(row, answer = False):\n",
    "    if answer:\n",
    "        prompt = f\"\"\"\n",
    "objektif: {row['objektif']}\n",
    "soalan: {row['soalan']}\n",
    "jawapan: {row['jawapan']}\n",
    "    \"\"\"\n",
    "    else:\n",
    "        prompt = f\"\"\"\n",
    "objektif: {row['objektif']}\n",
    "soalan: {row['soalan']}\n",
    "jawapan:\n",
    "    \"\"\"\n",
    "    return prompt.strip()"
   ]
  },
  {
   "cell_type": "code",
   "execution_count": 7,
   "id": "59e46fdf",
   "metadata": {},
   "outputs": [
    {
     "name": "stdout",
     "output_type": "stream",
     "text": [
      "Contoh soalan 1\n",
      "objektif: Lengkapkan ayat-ayat yang berikut dengan memilih jawapan yang paling sesuai.\n",
      "soalan: Perabot yang dihasilkan ____ kayu jati itu lebih cantik dan tahan lebih lama.\n",
      "A. dari\n",
      "B. bagi\n",
      "C. untuk\n",
      "D. daripada\n",
      "jawapan: D\n",
      "\n",
      "objektif: Lengkapkan ayat-ayat yang berikut dengan memilih jawapan yang paling sesuai.\n",
      "soalan: Para ___ tanah air telah dihantar ke negara Jepun untuk membantu mangsa gempa bumi dan tsunami.\n",
      "A. hartawan\n",
      "B. dermawan\n",
      "C. bangsawan\n",
      "D. sukarelawan\n",
      "jawapan:\n"
     ]
    },
    {
     "name": "stderr",
     "output_type": "stream",
     "text": [
      "/tmp/ipykernel_4961/1150135202.py:2: DeprecationWarning: Sampling from a set deprecated\n",
      "since Python 3.9 and will be removed in a subsequent version.\n",
      "  shots = random.sample(arange - {i}, 1)\n"
     ]
    }
   ],
   "source": [
    "i = 0\n",
    "shots = random.sample(arange - {i}, 1)\n",
    "prompts = []\n",
    "for no, s in enumerate(shots):\n",
    "    prompts.append(f'Contoh soalan {no + 1}\\n' + convert_prompt(questions[s], answer = True))\n",
    "\n",
    "prompts.append(convert_prompt(questions[i]))\n",
    "prompt = '\\n\\n'.join(prompts)\n",
    "print(prompt)"
   ]
  },
  {
   "cell_type": "code",
   "execution_count": 8,
   "id": "d4af3093",
   "metadata": {},
   "outputs": [
    {
     "data": {
      "text/plain": [
       "{'input_ids': tensor([[ 1281,   517, 29882,   577,   284,   273, 29871, 29896,    13,   711,\n",
       "          9761,   361, 29901,   365,   996, 21474, 11052, 10156,   271, 29899,\n",
       "           388,   271,   343,   574,  7655,   638,   329,   972,  6249,  2626,\n",
       "          2638, 29882,   432,  1450, 21419,   343,   574,  5112,   292,  3999,\n",
       "         29884,  1794, 29889,    13,   578,   284,   273, 29901,  2431,   370,\n",
       "           327,   343,   574,   652,  5349,   309, 11052,   903, 22359,   413,\n",
       "           388, 29884,   432,  2219,   372, 29884, 19685,  4861,  5107,   638,\n",
       "          6025,   260,   801,   273, 19685,  4861,   301,  3304, 29889,    13,\n",
       "         29909, 29889,   270,  1306,    13, 29933, 29889,   289, 17698,    13,\n",
       "         29907, 29889,   443, 29873,  2679,    13, 29928, 29889,  5424,   666,\n",
       "          1114,    13, 29926,  1450, 21419, 29901,   360,    13,    13,   711,\n",
       "          9761,   361, 29901,   365,   996, 21474, 11052, 10156,   271, 29899,\n",
       "           388,   271,   343,   574,  7655,   638,   329,   972,  6249,  2626,\n",
       "          2638, 29882,   432,  1450, 21419,   343,   574,  5112,   292,  3999,\n",
       "         29884,  1794, 29889,    13,   578,   284,   273, 29901, 12994,   903,\n",
       "          1649, 10345,   801,  4799, 13547,   801,   652, 29882,   424,   279,\n",
       "          1589,  3480,  2518,   435,  1022,   348,   443, 29873,  2679,  3813,\n",
       "           424, 29884, 25016,  4977,  7055,  3274,   289, 15547,  6025,   260,\n",
       "         11445,  4479, 29889,    13, 29909, 29889,   298,   442,  1450,   273,\n",
       "            13, 29933, 29889,   589,   655, 11440,    13, 29907, 29889,   289,\n",
       "         25128,  1450,   273,    13, 29928, 29889,   480, 29895,   598, 10653,\n",
       "           273,    13, 29926,  1450, 21419, 29901]], device='cuda:0'), 'attention_mask': tensor([[1, 1, 1, 1, 1, 1, 1, 1, 1, 1, 1, 1, 1, 1, 1, 1, 1, 1, 1, 1, 1, 1, 1, 1,\n",
       "         1, 1, 1, 1, 1, 1, 1, 1, 1, 1, 1, 1, 1, 1, 1, 1, 1, 1, 1, 1, 1, 1, 1, 1,\n",
       "         1, 1, 1, 1, 1, 1, 1, 1, 1, 1, 1, 1, 1, 1, 1, 1, 1, 1, 1, 1, 1, 1, 1, 1,\n",
       "         1, 1, 1, 1, 1, 1, 1, 1, 1, 1, 1, 1, 1, 1, 1, 1, 1, 1, 1, 1, 1, 1, 1, 1,\n",
       "         1, 1, 1, 1, 1, 1, 1, 1, 1, 1, 1, 1, 1, 1, 1, 1, 1, 1, 1, 1, 1, 1, 1, 1,\n",
       "         1, 1, 1, 1, 1, 1, 1, 1, 1, 1, 1, 1, 1, 1, 1, 1, 1, 1, 1, 1, 1, 1, 1, 1,\n",
       "         1, 1, 1, 1, 1, 1, 1, 1, 1, 1, 1, 1, 1, 1, 1, 1, 1, 1, 1, 1, 1, 1, 1, 1,\n",
       "         1, 1, 1, 1, 1, 1, 1, 1, 1, 1, 1, 1, 1, 1, 1, 1, 1, 1, 1, 1, 1, 1, 1, 1,\n",
       "         1, 1, 1, 1, 1, 1, 1, 1, 1, 1, 1, 1, 1, 1, 1, 1, 1, 1, 1, 1, 1, 1, 1, 1]],\n",
       "       device='cuda:0')}"
      ]
     },
     "execution_count": 8,
     "metadata": {},
     "output_type": "execute_result"
    }
   ],
   "source": [
    "inputs = tokenizer([prompt], return_tensors='pt', add_special_tokens=False).to('cuda')\n",
    "inputs"
   ]
  },
  {
   "cell_type": "code",
   "execution_count": 9,
   "id": "3cab7e18",
   "metadata": {},
   "outputs": [
    {
     "name": "stdout",
     "output_type": "stream",
     "text": [
      "['C</s>']\n"
     ]
    }
   ],
   "source": [
    "generate_kwargs = dict(\n",
    "    inputs,\n",
    "    max_new_tokens=3,\n",
    "    top_p=0.95,\n",
    "    top_k=50,\n",
    "    temperature=0.1,\n",
    "    do_sample=True,\n",
    "    num_beams=1,\n",
    "    repetition_penalty=1.05,\n",
    ")\n",
    "r = model.generate(**generate_kwargs)\n",
    "print(tokenizer.decode(r[0]).split('jawapan:')[-1].strip().split())"
   ]
  },
  {
   "cell_type": "code",
   "execution_count": 10,
   "id": "a02805aa",
   "metadata": {},
   "outputs": [
    {
     "name": "stderr",
     "output_type": "stream",
     "text": [
      "  0%|          | 0/54 [00:00<?, ?it/s]/tmp/ipykernel_4961/38887572.py:2: DeprecationWarning: Sampling from a set deprecated\n",
      "since Python 3.9 and will be removed in a subsequent version.\n",
      "  shots = random.sample(arange - {i}, 1)\n",
      "100%|██████████| 54/54 [00:05<00:00, 10.13it/s]\n"
     ]
    }
   ],
   "source": [
    "for i in tqdm(range(len(questions))):\n",
    "    shots = random.sample(arange - {i}, 1)\n",
    "    prompts = []\n",
    "    for no, s in enumerate(shots):\n",
    "        prompts.append(f'Contoh soalan {no + 1}\\n' + convert_prompt(questions[s], answer = True))\n",
    "\n",
    "    prompts.append(convert_prompt(questions[i]))\n",
    "    prompt = '\\n\\n'.join(prompts)\n",
    "    inputs = tokenizer([prompt], return_tensors='pt', add_special_tokens=False).to('cuda')\n",
    "    repeat = []\n",
    "    for _ in range(3):\n",
    "        try:\n",
    "            generate_kwargs = dict(\n",
    "                inputs,\n",
    "                max_new_tokens=3,\n",
    "                top_p=0.95,\n",
    "                top_k=50,\n",
    "                temperature=0.5,\n",
    "                do_sample=True,\n",
    "                num_beams=1,\n",
    "                repetition_penalty=1.05,\n",
    "            )\n",
    "            r = model.generate(**generate_kwargs)\n",
    "            r = tokenizer.decode(r[0]).split('jawapan:')[1].strip().split()\n",
    "            repeat.append(r[0].replace('.', '').replace('</s>', '').split('\\\\')[0].split('/')[0])\n",
    "    \n",
    "        except Exception as e:\n",
    "            print(e)\n",
    "            pass\n",
    "    \n",
    "    questions[i]['output'] = repeat"
   ]
  },
  {
   "cell_type": "code",
   "execution_count": 11,
   "id": "93d03206",
   "metadata": {},
   "outputs": [],
   "source": [
    "import json\n",
    "\n",
    "with open('output-1shot-llama2-7b-32k.json', 'w') as fopen:\n",
    "    json.dump(questions, fopen)"
   ]
  },
  {
   "cell_type": "code",
   "execution_count": null,
   "id": "4b5bf156",
   "metadata": {},
   "outputs": [],
   "source": [
    "def most_common(l):\n",
    "    return max(set(l), key=l.count)"
   ]
  },
  {
   "cell_type": "code",
   "execution_count": 12,
   "id": "b7be72e1",
   "metadata": {},
   "outputs": [
    {
     "data": {
      "text/plain": [
       "16.666666666666664"
      ]
     },
     "execution_count": 12,
     "metadata": {},
     "output_type": "execute_result"
    }
   ],
   "source": [
    "filtered = [q for q in questions if 'output' in q]\n",
    "correct = 0\n",
    "for q in filtered:\n",
    "    correct += most_common(q['output']) == q['jawapan']\n",
    "(correct / len(filtered)) * 100"
   ]
  },
  {
   "cell_type": "code",
   "execution_count": null,
   "id": "6b40acb9",
   "metadata": {},
   "outputs": [],
   "source": []
  }
 ],
 "metadata": {
  "kernelspec": {
   "display_name": "Python 3 (ipykernel)",
   "language": "python",
   "name": "python3"
  },
  "language_info": {
   "codemirror_mode": {
    "name": "ipython",
    "version": 3
   },
   "file_extension": ".py",
   "mimetype": "text/x-python",
   "name": "python",
   "nbconvert_exporter": "python",
   "pygments_lexer": "ipython3",
   "version": "3.10.12"
  }
 },
 "nbformat": 4,
 "nbformat_minor": 5
}
