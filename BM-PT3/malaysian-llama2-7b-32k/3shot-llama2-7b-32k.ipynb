{
 "cells": [
  {
   "cell_type": "code",
   "execution_count": 1,
   "id": "0746741b",
   "metadata": {},
   "outputs": [],
   "source": [
    "# !wget https://raw.githubusercontent.com/mesolitica/malaysian-dataset/master/llm-benchmark/BM-pt3/BM-A-pt3"
   ]
  },
  {
   "cell_type": "code",
   "execution_count": 2,
   "id": "b6d200e3",
   "metadata": {},
   "outputs": [
    {
     "name": "stdout",
     "output_type": "stream",
     "text": [
      "[2023-11-10 06:34:59,802] [INFO] [real_accelerator.py:133:get_accelerator] Setting ds_accelerator to cuda (auto detect)\n"
     ]
    },
    {
     "data": {
      "application/vnd.jupyter.widget-view+json": {
       "model_id": "6b553af936254a8299bd29cbc3104685",
       "version_major": 2,
       "version_minor": 0
      },
      "text/plain": [
       "Loading checkpoint shards:   0%|          | 0/2 [00:00<?, ?it/s]"
      ]
     },
     "metadata": {},
     "output_type": "display_data"
    }
   ],
   "source": [
    "from transformers import AutoTokenizer, AutoModelForCausalLM\n",
    "import torch\n",
    "\n",
    "tokenizer = AutoTokenizer.from_pretrained('mesolitica/llama-7b-hf-32768-fpf')\n",
    "model = AutoModelForCausalLM.from_pretrained(\n",
    "    'mesolitica/llama-7b-hf-32768-fpf', \n",
    "    use_flash_attention_2 = True, \n",
    "    torch_dtype = torch.float16,\n",
    "    device_map=\"cuda:0\"\n",
    ")"
   ]
  },
  {
   "cell_type": "code",
   "execution_count": 3,
   "id": "7d16b8ef",
   "metadata": {},
   "outputs": [],
   "source": [
    "from tqdm import tqdm\n",
    "import os\n",
    "import random"
   ]
  },
  {
   "cell_type": "code",
   "execution_count": 4,
   "id": "a06177bd",
   "metadata": {},
   "outputs": [],
   "source": [
    "with open('BM-A-pt3') as fopen:\n",
    "    text = fopen.read()\n",
    "    \n",
    "questions = []\n",
    "for t in text.split('no: ')[1:]:\n",
    "    t = t.strip()\n",
    "    no = t.split('\\n')[0]\n",
    "    objektif = t.split('objektif: ')[1].split('\\n')[0]\n",
    "    soalan = t.split('soalan:')[1].split('jawapan:')[0].strip()\n",
    "    jawapan = t.split('jawapan: ')[1].split(',')[0].strip()\n",
    "    data = {\n",
    "        'no': no,\n",
    "        'objektif': objektif,\n",
    "        'soalan': soalan,\n",
    "        'jawapan': jawapan,\n",
    "    }\n",
    "    questions.append(data)"
   ]
  },
  {
   "cell_type": "code",
   "execution_count": 5,
   "id": "363cad90",
   "metadata": {},
   "outputs": [],
   "source": [
    "arange = set(range(len(questions)))"
   ]
  },
  {
   "cell_type": "code",
   "execution_count": 6,
   "id": "87bc46c3",
   "metadata": {},
   "outputs": [],
   "source": [
    "def convert_prompt(row, answer = False):\n",
    "    if answer:\n",
    "        prompt = f\"\"\"\n",
    "objektif: {row['objektif']}\n",
    "soalan: {row['soalan']}\n",
    "jawapan: {row['jawapan']}\n",
    "    \"\"\"\n",
    "    else:\n",
    "        prompt = f\"\"\"\n",
    "objektif: {row['objektif']}\n",
    "soalan: {row['soalan']}\n",
    "jawapan:\n",
    "    \"\"\"\n",
    "    return prompt.strip()"
   ]
  },
  {
   "cell_type": "code",
   "execution_count": 7,
   "id": "59e46fdf",
   "metadata": {},
   "outputs": [
    {
     "name": "stdout",
     "output_type": "stream",
     "text": [
      "Contoh soalan 1\n",
      "objektif: Baca petikan di bawah ini dengan teliti, kemudian jawab soalan-soalan yang berikut.\n",
      "soalan: Demam denggi merupakan penyakit bawaan nyamuk Aedes yang menyebabkan\n",
      "virus demam denggi kepada manusia. Kita sering kali alpa dan memandang enteng\n",
      "tentang wabak denggi sehingga ada dalam kalangan ahli keluarga kita dijangkiti demam\n",
      "denggi.\n",
      "Acap kali kita mendengar bahawa pesakit yang mengalami demam denggi bagi kali\n",
      "kedua beldepan dengan risiko kematian. Hal ini demikian kerana antibodi badan mangsa\n",
      "sudah lemah dan tidak mampu melawan serangan virus denggi. Virus ini disebarkan oleh\n",
      "nyamuk aedes betina. Hakikatnya, risiko kematian sentiasa ada bagi setiap pesakit\n",
      "demam denggi walaupun kalipertama dijangkiti virus berkenaan.\n",
      "Demam denggi bermuia dengan pesakit mengalami demam panas diikuti dengan\n",
      "simptom-simptom lain seperti sakit kepala, sakit sendi dan sakit pada bahagian beiakang\n",
      "mata serta ruam merah di kulit. Apabila platlet darah pesakit demam denggr semakin\n",
      "berkurangan secara berterusan, tekanan darah akan menjadi rendah, denlutan nadi juga\n",
      "semakin laju dan akhirnya berlaku kematian.\n",
      "Demi memastikan keluarga bebas daripada demam denggi, kita mestilah\n",
      "memastikan keselamatan di dalam rumah. Sebagai contoh, tingkap dan pintu mestilah\n",
      "ditutup menjelang waktu senja. Selain itu, kita juga boleh menggunakan lingkaran\n",
      "elektrik atau penyerap cecair bagi menghalang serangga seperti nyamuk aedes masuk ke\n",
      "dalam rumah.\n",
      "\n",
      "(Dipetik dan diubah suai daripada \"Demam Denggi Berisiko Maut\" oleh Nor 'Asyikin Mat Hayin, Harian Metro, 6 Januari 2019)\n",
      "\n",
      "Mesej yang hendak disampaikan dalam petikan di atas ialah\n",
      "\n",
      "A. demam denggi boleh membawa maut\n",
      "B. peranan keluarga penting dalam mencegah demam denggi\n",
      "C. kesihatan amat penting untuk mengelakkan demam denggi\n",
      "D. mencegah demam denggi lebih baik daripada merawat\n",
      "jawapan: A\n",
      "\n",
      "Contoh soalan 2\n",
      "objektif: Baca petikan di bawah ini dengan teliti, kemudian jawab soalan-soalan yang berikut.\n",
      "soalan: Maka diambil padi yang dijemur itu segenggam, lalu disembunyikan butir-butir padi itu di\n",
      "dalam lubang-lubang luka pada tumitnya. Setelah itu ia pun meminta izin dengan baik-\n",
      "baik untuk pulang ke kampungnya, ke bumi tempat saudaranya yang tetap menantinya.\n",
      "Maka berkatalah induk semangnya, orang kayangan yang masih juga mencurigainya\n",
      "itu, \"Baiklah jikalau kamu ingin pulang ke kampung kamu, akan tetapi, sebelum itu saya\n",
      "akan memeriksa dan menggeledah kamu lebih dahulu. Barangkali ada padi yang\n",
      "disembunyikan untuk kamu bawa sebagai oleh-oleh ke bumi.\"\n",
      "Anak yatim piatu itu pun menjawab dengan tenangnya, \"Silakan ! Periksalah dengan\n",
      "teliti kalau-kalau ada apa-apa yang saya bawa. Sekarang saya sudah betul-betul jera\n",
      "mengambil apa-apa. Saya sungguh-sungguh sudah bertaubat dan tidak mahu lagi\n",
      "melakukannya.\"\n",
      "Kemudian induk semang berkata, \"Jikalau benar demikian katamu, maka jelaslah bagi\n",
      "kami dan percayalah kami bahawa kamu betul-betul tidak akan mencuri padi kami lagi.\"\n",
      "Setelah induk semang berkata demikian, maka anak yatim piatu itu pun berangkatlah\n",
      "meninggalkan kayangan. Orang kayangan itu tidak mengetahui sama sekali bahawa anak\n",
      "yatim paitu yang kecil itu ada menyembunyikan padi di dalam lubang-lubang luka pada\n",
      "tumitnya. Akhirnya sampai jugalah anak yatim piatu itu dengan selamat di kampungnya.\n",
      "Maka ia pun dengan segera membuat ladang. Setelah selesai, ditanamnya padi yang\n",
      "dicurinya itu di ladangnya.\n",
      "\n",
      "Bagaimana anak yatim piatu itu membawa butir-butir padi bersamanya?\n",
      "\n",
      "A. Mencuri sebutir padi dan melarikan diri\n",
      "B. Meminta izin daripada Induk Semang sebagai oleh-oleh ke bumi\n",
      "C. Menyembunyikan butir-butir padi di dalam lubang luka pada tumitnya\n",
      "D. Menanam padi yang dicuri di lading tanpa pengetahuan orang kayangan\n",
      "jawapan: C\n",
      "\n",
      "Contoh soalan 3\n",
      "objektif: Pilih ayat-ayat yang menggunakan perkataan dalam kurungan dengan betul.\n",
      "soalan: I. (Mendalam) soal ini, dia tidak harus dipersalahkan.\n",
      "II. Masalah itu dibincangkan secara (mendalam) antara empat mata.\n",
      "III. Fikirlah secara (mendalam) sebelum membuat sebarang tindakan.\n",
      "IV.Air perigi semakin (mendalam) setelah hujan turun tanpa henti.\n",
      "\n",
      "A. I dan II sahaja\n",
      "B. I dan III sahaja\n",
      "C. II dan III sahaja\n",
      "D. III dan IV sahaja\n",
      "jawapan: C\n",
      "\n",
      "objektif: Lengkapkan ayat-ayat yang berikut dengan memilih jawapan yang paling sesuai.\n",
      "soalan: Para ___ tanah air telah dihantar ke negara Jepun untuk membantu mangsa gempa bumi dan tsunami.\n",
      "A. hartawan\n",
      "B. dermawan\n",
      "C. bangsawan\n",
      "D. sukarelawan\n",
      "jawapan:\n"
     ]
    },
    {
     "name": "stderr",
     "output_type": "stream",
     "text": [
      "/tmp/ipykernel_5152/3037112239.py:2: DeprecationWarning: Sampling from a set deprecated\n",
      "since Python 3.9 and will be removed in a subsequent version.\n",
      "  shots = random.sample(arange - {i}, 3)\n"
     ]
    }
   ],
   "source": [
    "i = 0\n",
    "shots = random.sample(arange - {i}, 3)\n",
    "prompts = []\n",
    "for no, s in enumerate(shots):\n",
    "    prompts.append(f'Contoh soalan {no + 1}\\n' + convert_prompt(questions[s], answer = True))\n",
    "\n",
    "prompts.append(convert_prompt(questions[i]))\n",
    "prompt = '\\n\\n'.join(prompts)\n",
    "print(prompt)"
   ]
  },
  {
   "cell_type": "code",
   "execution_count": 8,
   "id": "d4af3093",
   "metadata": {},
   "outputs": [
    {
     "data": {
      "text/plain": [
       "{'input_ids': tensor([[ 1281,   517, 29882,  ...,  1450, 21419, 29901]], device='cuda:0'), 'attention_mask': tensor([[1, 1, 1,  ..., 1, 1, 1]], device='cuda:0')}"
      ]
     },
     "execution_count": 8,
     "metadata": {},
     "output_type": "execute_result"
    }
   ],
   "source": [
    "inputs = tokenizer([prompt], return_tensors='pt', add_special_tokens=False).to('cuda')\n",
    "inputs"
   ]
  },
  {
   "cell_type": "code",
   "execution_count": 9,
   "id": "3cab7e18",
   "metadata": {},
   "outputs": [
    {
     "name": "stdout",
     "output_type": "stream",
     "text": [
      "['D', '©']\n"
     ]
    }
   ],
   "source": [
    "generate_kwargs = dict(\n",
    "    inputs,\n",
    "    max_new_tokens=3,\n",
    "    top_p=0.95,\n",
    "    top_k=50,\n",
    "    temperature=0.1,\n",
    "    do_sample=True,\n",
    "    num_beams=1,\n",
    "    repetition_penalty=1.05,\n",
    ")\n",
    "r = model.generate(**generate_kwargs)\n",
    "print(tokenizer.decode(r[0]).split('jawapan:')[-1].strip().split())"
   ]
  },
  {
   "cell_type": "code",
   "execution_count": 24,
   "id": "a02805aa",
   "metadata": {},
   "outputs": [
    {
     "name": "stderr",
     "output_type": "stream",
     "text": [
      "  0%|          | 0/54 [00:00<?, ?it/s]/tmp/ipykernel_5152/651496052.py:2: DeprecationWarning: Sampling from a set deprecated\n",
      "since Python 3.9 and will be removed in a subsequent version.\n",
      "  shots = random.sample(arange - {i}, 1)\n",
      "100%|██████████| 54/54 [00:28<00:00,  1.87it/s]\n"
     ]
    }
   ],
   "source": [
    "for i in tqdm(range(len(questions))):\n",
    "    shots = random.sample(arange - {i}, 1)\n",
    "    prompts = []\n",
    "    for no, s in enumerate(shots):\n",
    "        prompts.append(f'Contoh soalan {no + 1}\\n' + convert_prompt(questions[s], answer = True))\n",
    "\n",
    "    prompts.append(convert_prompt(questions[i]))\n",
    "    prompt = '\\n\\n'.join(prompts)\n",
    "    inputs = tokenizer([prompt], return_tensors='pt', add_special_tokens=False).to('cuda')\n",
    "    repeat = []\n",
    "    for _ in range(3):\n",
    "        try:\n",
    "            generate_kwargs = dict(\n",
    "                inputs,\n",
    "                max_new_tokens=3,\n",
    "                top_p=0.95,\n",
    "                top_k=50,\n",
    "                temperature=0.5,\n",
    "                do_sample=True,\n",
    "                num_beams=1,\n",
    "                repetition_penalty=1.05,\n",
    "            )\n",
    "            r = model.generate(**generate_kwargs)\n",
    "            r = tokenizer.decode(r[0]).split('jawapan:')[1].strip().split()\n",
    "            repeat.append(r[0].replace('.', '').replace('</s>', '').split('\\\\')[0].split('/')[0])\n",
    "    \n",
    "        except Exception as e:\n",
    "            print(e)\n",
    "            pass\n",
    "    \n",
    "    questions[i]['output'] = repeat"
   ]
  },
  {
   "cell_type": "code",
   "execution_count": 25,
   "id": "93d03206",
   "metadata": {},
   "outputs": [],
   "source": [
    "import json\n",
    "\n",
    "with open('output-3shot-llama2-7b-32k.json', 'w') as fopen:\n",
    "    json.dump(questions, fopen)"
   ]
  },
  {
   "cell_type": "code",
   "execution_count": 26,
   "id": "3f1dc226",
   "metadata": {},
   "outputs": [],
   "source": [
    "def most_common(l):\n",
    "    return max(set(l), key=l.count)"
   ]
  },
  {
   "cell_type": "code",
   "execution_count": 27,
   "id": "b7be72e1",
   "metadata": {},
   "outputs": [
    {
     "data": {
      "text/plain": [
       "27.77777777777778"
      ]
     },
     "execution_count": 27,
     "metadata": {},
     "output_type": "execute_result"
    }
   ],
   "source": [
    "filtered = [q for q in questions if 'output' in q]\n",
    "correct = 0\n",
    "for q in filtered:\n",
    "    correct += most_common(q['output']) == q['jawapan']\n",
    "(correct / len(filtered)) * 100"
   ]
  },
  {
   "cell_type": "code",
   "execution_count": null,
   "id": "931e0367",
   "metadata": {},
   "outputs": [],
   "source": []
  }
 ],
 "metadata": {
  "kernelspec": {
   "display_name": "Python 3 (ipykernel)",
   "language": "python",
   "name": "python3"
  },
  "language_info": {
   "codemirror_mode": {
    "name": "ipython",
    "version": 3
   },
   "file_extension": ".py",
   "mimetype": "text/x-python",
   "name": "python",
   "nbconvert_exporter": "python",
   "pygments_lexer": "ipython3",
   "version": "3.10.12"
  }
 },
 "nbformat": 4,
 "nbformat_minor": 5
}
