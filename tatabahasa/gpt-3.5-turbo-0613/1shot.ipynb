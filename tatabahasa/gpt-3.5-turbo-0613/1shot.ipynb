{
 "cells": [
  {
   "cell_type": "code",
   "execution_count": 1,
   "id": "22feeec0",
   "metadata": {},
   "outputs": [],
   "source": [
    "# !wget https://raw.githubusercontent.com/mesolitica/malaysian-dataset/master/llm-benchmark/tatabahasabm.tripod.com/quiz-tatabahasa.jsonl"
   ]
  },
  {
   "cell_type": "code",
   "execution_count": 2,
   "id": "632c9c80",
   "metadata": {},
   "outputs": [],
   "source": [
    "from tqdm import tqdm\n",
    "import os\n",
    "import json\n",
    "import random"
   ]
  },
  {
   "cell_type": "code",
   "execution_count": 3,
   "id": "b30e63fc",
   "metadata": {},
   "outputs": [],
   "source": [
    "apikey = ''"
   ]
  },
  {
   "cell_type": "code",
   "execution_count": 4,
   "id": "d1f99842",
   "metadata": {},
   "outputs": [],
   "source": [
    "import requests\n",
    "\n",
    "def curl(value):\n",
    "    headers = {\n",
    "        'Content-Type': 'application/json',\n",
    "        'api-key': apikey,\n",
    "    }\n",
    "\n",
    "    params = {\n",
    "        'api-version': '2023-03-15-preview',\n",
    "    }\n",
    "\n",
    "    json_data = {\n",
    "        'messages': [\n",
    "            {'role': 'system', 'content':'answer only, no need to explain'},\n",
    "            {\n",
    "                'role': 'user',\n",
    "                'content': value,\n",
    "            },\n",
    "        ],\n",
    "        'max_tokens': 100,\n",
    "        'temperature': 0,\n",
    "    }\n",
    "\n",
    "    response = requests.post(\n",
    "        'https://nous.openai.azure.com/openai/deployments/nous/chat/completions',\n",
    "        params=params,\n",
    "        headers=headers,\n",
    "        json=json_data,\n",
    "        timeout = 120,\n",
    "    )\n",
    "    \n",
    "    return response"
   ]
  },
  {
   "cell_type": "code",
   "execution_count": 5,
   "id": "f4a36063",
   "metadata": {},
   "outputs": [
    {
     "data": {
      "text/plain": [
       "349"
      ]
     },
     "execution_count": 5,
     "metadata": {},
     "output_type": "execute_result"
    }
   ],
   "source": [
    "questions = []\n",
    "with open('quiz-tatabahasa.jsonl') as fopen:\n",
    "    for no, l in enumerate(fopen):\n",
    "        l = json.loads(l)\n",
    "        soalan = [l['question']]\n",
    "        jawapan = None\n",
    "        for c, k in l['choices'].items():\n",
    "            soalan.append(f\"{c}. {k['text']}\")\n",
    "            if k['answer']:\n",
    "                jawapan = c\n",
    "        \n",
    "        data = {\n",
    "            'no': no,\n",
    "            'objektif': 'Jawab soalan yang diberikan' if l['instruction'] is None else l['instruction'],\n",
    "            'soalan': '\\n'.join(soalan),\n",
    "            'jawapan': jawapan,\n",
    "        }\n",
    "        questions.append(data)\n",
    "len(questions)"
   ]
  },
  {
   "cell_type": "code",
   "execution_count": 6,
   "id": "4ec4e584",
   "metadata": {},
   "outputs": [],
   "source": [
    "arange = set(range(len(questions)))"
   ]
  },
  {
   "cell_type": "code",
   "execution_count": 7,
   "id": "d02b46e7",
   "metadata": {},
   "outputs": [],
   "source": [
    "def convert_prompt(row, answer = False):\n",
    "    if answer:\n",
    "        prompt = f\"\"\"\n",
    "objektif: {row['objektif']}\n",
    "soalan: {row['soalan']}\n",
    "jawapan: {row['jawapan']}\n",
    "    \"\"\"\n",
    "    else:\n",
    "        prompt = f\"\"\"\n",
    "objektif: {row['objektif']}\n",
    "soalan: {row['soalan']}\n",
    "    \"\"\"\n",
    "    return prompt.strip()"
   ]
  },
  {
   "cell_type": "code",
   "execution_count": 8,
   "id": "1c8eadc7",
   "metadata": {},
   "outputs": [
    {
     "name": "stdout",
     "output_type": "stream",
     "text": [
      "Contoh soalan 1\n",
      "objektif: Pilih ayat yang menggunakan tanda baca yang betul.\n",
      "soalan: <br/>\n",
      "A. \"Sudah ! Awak semua jangan bermain-main, sewaktu saya mengajar faham !\" kata Puan Sakinah.\n",
      "B. \"Sudah ! Awak semua jangan bermain-main ! Sewaktu Saya mengajar, faham .\" kata puan Sakinah.\n",
      "C. \"Sudah, awak semua jangan bermain-main sewaktu saya mengajar, faham !\" kata puan Sakinah\n",
      "D. \"Sudah, awak semua jangan bermain-main, sewaktu saya mengajar. Faham !\" kata puan Sakinah.\n",
      "jawapan: C\n",
      "\n",
      "objektif: Jawab soalan yang diberikan\n",
      "soalan: ........, sudah dapat memandu kereta rupa-rupanya kamu !\n",
      "A. Oh\n",
      "B. Eh\n",
      "C. Hai\n",
      "D. Ah\n"
     ]
    }
   ],
   "source": [
    "i = 0\n",
    "shots = random.sample(arange - {i}, 1)\n",
    "prompts = []\n",
    "for no, s in enumerate(shots):\n",
    "    prompts.append(f'Contoh soalan {no + 1}\\n' + convert_prompt(questions[s], answer = True))\n",
    "\n",
    "prompts.append(convert_prompt(questions[i]))\n",
    "prompt = '\\n\\n'.join(prompts)\n",
    "print(prompt)"
   ]
  },
  {
   "cell_type": "code",
   "execution_count": 9,
   "id": "500b65dc",
   "metadata": {},
   "outputs": [],
   "source": [
    "r = curl(prompt)"
   ]
  },
  {
   "cell_type": "code",
   "execution_count": 10,
   "id": "0a90f8e3",
   "metadata": {},
   "outputs": [
    {
     "data": {
      "text/plain": [
       "'B. Eh'"
      ]
     },
     "execution_count": 10,
     "metadata": {},
     "output_type": "execute_result"
    }
   ],
   "source": [
    "r.json()['choices'][0]['message']['content']"
   ]
  },
  {
   "cell_type": "code",
   "execution_count": 11,
   "id": "e686e5ae",
   "metadata": {},
   "outputs": [
    {
     "name": "stderr",
     "output_type": "stream",
     "text": [
      "100%|█████████████████████████████████████████| 349/349 [06:56<00:00,  1.19s/it]\n"
     ]
    }
   ],
   "source": [
    "for i in tqdm(range(len(questions))):\n",
    "    shots = random.sample(arange - {i}, 1)\n",
    "    prompts = []\n",
    "    for no, s in enumerate(shots):\n",
    "        prompts.append(f'Contoh soalan {no + 1}\\n' + convert_prompt(questions[s], answer = True))\n",
    "\n",
    "    prompts.append(convert_prompt(questions[i]))\n",
    "    prompt = '\\n\\n'.join(prompts)\n",
    "    try:\n",
    "        r = curl(prompt)\n",
    "        answer = r.json()['choices'][0]['message']['content']\n",
    "        questions[i]['output'] = answer\n",
    "    except:\n",
    "        pass"
   ]
  },
  {
   "cell_type": "code",
   "execution_count": 12,
   "id": "6fe6c906",
   "metadata": {},
   "outputs": [],
   "source": [
    "import json\n",
    "\n",
    "with open('output-1shot.json', 'w') as fopen:\n",
    "    json.dump(questions, fopen)"
   ]
  },
  {
   "cell_type": "code",
   "execution_count": 13,
   "id": "6c196aaa",
   "metadata": {},
   "outputs": [
    {
     "data": {
      "text/plain": [
       "347"
      ]
     },
     "execution_count": 13,
     "metadata": {},
     "output_type": "execute_result"
    }
   ],
   "source": [
    "filtered = [q for q in questions if 'output' in q]\n",
    "len(filtered)"
   ]
  },
  {
   "cell_type": "code",
   "execution_count": 14,
   "id": "cf9b457a",
   "metadata": {},
   "outputs": [
    {
     "data": {
      "text/plain": [
       "60.80691642651297"
      ]
     },
     "execution_count": 14,
     "metadata": {},
     "output_type": "execute_result"
    }
   ],
   "source": [
    "correct = 0\n",
    "for q in filtered:\n",
    "    correct += q['output'].replace('jawapan:', '').split('.')[0].strip() == q['jawapan']\n",
    "(correct / len(filtered)) * 100"
   ]
  },
  {
   "cell_type": "code",
   "execution_count": null,
   "id": "890db982",
   "metadata": {},
   "outputs": [],
   "source": []
  }
 ],
 "metadata": {
  "kernelspec": {
   "display_name": "Python 3 (ipykernel)",
   "language": "python",
   "name": "python3"
  },
  "language_info": {
   "codemirror_mode": {
    "name": "ipython",
    "version": 3
   },
   "file_extension": ".py",
   "mimetype": "text/x-python",
   "name": "python",
   "nbconvert_exporter": "python",
   "pygments_lexer": "ipython3",
   "version": "3.8.10"
  }
 },
 "nbformat": 4,
 "nbformat_minor": 5
}
