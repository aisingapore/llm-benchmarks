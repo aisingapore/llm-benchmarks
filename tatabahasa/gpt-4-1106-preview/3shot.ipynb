{
 "cells": [
  {
   "cell_type": "code",
   "execution_count": 1,
   "id": "62487cdf",
   "metadata": {},
   "outputs": [],
   "source": [
    "# !wget https://raw.githubusercontent.com/mesolitica/malaysian-dataset/master/llm-benchmark/tatabahasabm.tripod.com/quiz-tatabahasa.jsonl"
   ]
  },
  {
   "cell_type": "code",
   "execution_count": 2,
   "id": "bbd65c8c",
   "metadata": {},
   "outputs": [],
   "source": [
    "from tqdm import tqdm\n",
    "import os\n",
    "import json\n",
    "import random"
   ]
  },
  {
   "cell_type": "code",
   "execution_count": 3,
   "id": "e8fb06f2",
   "metadata": {},
   "outputs": [],
   "source": [
    "apikey = ''"
   ]
  },
  {
   "cell_type": "code",
   "execution_count": 4,
   "id": "1f013a0e",
   "metadata": {},
   "outputs": [],
   "source": [
    "import requests\n",
    "\n",
    "def curl(value):\n",
    "    headers = {\n",
    "        'Content-Type': 'application/json',\n",
    "        'Authorization': f'Bearer {apikey}',\n",
    "    }\n",
    "\n",
    "    json_data = {\n",
    "        'messages': [\n",
    "            {'role': 'system', 'content':'answer only, no need to explain'},\n",
    "            {\n",
    "                'role': 'user',\n",
    "                'content': value,\n",
    "            },\n",
    "        ],\n",
    "        'max_tokens': 100,\n",
    "        'temperature': 0,\n",
    "        'model': 'gpt-4-1106-preview',\n",
    "    }\n",
    "\n",
    "    response = requests.post(\n",
    "        'https://api.openai.com/v1/chat/completions',\n",
    "        headers=headers,\n",
    "        json=json_data,\n",
    "        timeout = 120,\n",
    "    )\n",
    "    \n",
    "    return response"
   ]
  },
  {
   "cell_type": "code",
   "execution_count": 5,
   "id": "da887133",
   "metadata": {},
   "outputs": [
    {
     "data": {
      "text/plain": [
       "349"
      ]
     },
     "execution_count": 5,
     "metadata": {},
     "output_type": "execute_result"
    }
   ],
   "source": [
    "questions = []\n",
    "with open('quiz-tatabahasa.jsonl') as fopen:\n",
    "    for no, l in enumerate(fopen):\n",
    "        l = json.loads(l)\n",
    "        soalan = [l['question']]\n",
    "        jawapan = None\n",
    "        for c, k in l['choices'].items():\n",
    "            soalan.append(f\"{c}. {k['text']}\")\n",
    "            if k['answer']:\n",
    "                jawapan = c\n",
    "        \n",
    "        data = {\n",
    "            'no': no,\n",
    "            'objektif': 'Jawab soalan yang diberikan' if l['instruction'] is None else l['instruction'],\n",
    "            'soalan': '\\n'.join(soalan),\n",
    "            'jawapan': jawapan,\n",
    "        }\n",
    "        questions.append(data)\n",
    "len(questions)"
   ]
  },
  {
   "cell_type": "code",
   "execution_count": 6,
   "id": "9deb80ba",
   "metadata": {},
   "outputs": [],
   "source": [
    "arange = set(range(len(questions)))"
   ]
  },
  {
   "cell_type": "code",
   "execution_count": 7,
   "id": "72006539",
   "metadata": {},
   "outputs": [],
   "source": [
    "def convert_prompt(row, answer = False):\n",
    "    if answer:\n",
    "        prompt = f\"\"\"\n",
    "objektif: {row['objektif']}\n",
    "soalan: {row['soalan']}\n",
    "jawapan: {row['jawapan']}\n",
    "    \"\"\"\n",
    "    else:\n",
    "        prompt = f\"\"\"\n",
    "objektif: {row['objektif']}\n",
    "soalan: {row['soalan']}\n",
    "    \"\"\"\n",
    "    return prompt.strip()"
   ]
  },
  {
   "cell_type": "code",
   "execution_count": 8,
   "id": "10b1ec2b",
   "metadata": {},
   "outputs": [
    {
     "name": "stdout",
     "output_type": "stream",
     "text": [
      "Contoh soalan 1\n",
      "objektif: Pilih perkataan yang paling sesuai untuk menggantikan perkataan bergaris.\n",
      "soalan: Kadir mengajak rakan-rakannya menonton siaran langsung perlawanan bola sepak di rumahnya.\n",
      "A. mempelawa\n",
      "B. meminta\n",
      "C. melambai\n",
      "D. memaksa\n",
      "jawapan: A\n",
      "\n",
      "Contoh soalan 2\n",
      "objektif: Jawab soalan yang diberikan\n",
      "soalan: Burung helang bolehlah dikatakan ....................... dalam golongan haiwan pemangsa.\n",
      "A. memasuki\n",
      "B. termasuk\n",
      "C. dimasuki\n",
      "D. dimasukkan\n",
      "jawapan: B\n",
      "\n",
      "Contoh soalan 3\n",
      "objektif: Jawab soalan yang diberikan\n",
      "soalan: Menurut Ketua Polis Negara, ada beberapa cara untuk ............ jenayah.\n",
      "A. membenteras\n",
      "B. melenyapkan\n",
      "C. membasmi\n",
      "D. menghapuskan\n",
      "jawapan: A\n",
      "\n",
      "objektif: Jawab soalan yang diberikan\n",
      "soalan: ........, sudah dapat memandu kereta rupa-rupanya kamu !\n",
      "A. Oh\n",
      "B. Eh\n",
      "C. Hai\n",
      "D. Ah\n"
     ]
    }
   ],
   "source": [
    "i = 0\n",
    "shots = random.sample(arange - {i}, 3)\n",
    "prompts = []\n",
    "for no, s in enumerate(shots):\n",
    "    prompts.append(f'Contoh soalan {no + 1}\\n' + convert_prompt(questions[s], answer = True))\n",
    "\n",
    "prompts.append(convert_prompt(questions[i]))\n",
    "prompt = '\\n\\n'.join(prompts)\n",
    "print(prompt)"
   ]
  },
  {
   "cell_type": "code",
   "execution_count": 9,
   "id": "432d0826",
   "metadata": {},
   "outputs": [],
   "source": [
    "r = curl(prompt)"
   ]
  },
  {
   "cell_type": "code",
   "execution_count": 10,
   "id": "90920ac9",
   "metadata": {},
   "outputs": [
    {
     "data": {
      "text/plain": [
       "'jawapan: B'"
      ]
     },
     "execution_count": 10,
     "metadata": {},
     "output_type": "execute_result"
    }
   ],
   "source": [
    "r.json()['choices'][0]['message']['content']"
   ]
  },
  {
   "cell_type": "code",
   "execution_count": 11,
   "id": "98f5d415",
   "metadata": {},
   "outputs": [
    {
     "name": "stderr",
     "output_type": "stream",
     "text": [
      "100%|█████████████████████████████████████████| 349/349 [04:37<00:00,  1.26it/s]\n"
     ]
    }
   ],
   "source": [
    "for i in tqdm(range(len(questions))):\n",
    "    shots = random.sample(arange - {i}, 3)\n",
    "    prompts = []\n",
    "    for no, s in enumerate(shots):\n",
    "        prompts.append(f'Contoh soalan {no + 1}\\n' + convert_prompt(questions[s], answer = True))\n",
    "\n",
    "    prompts.append(convert_prompt(questions[i]))\n",
    "    prompt = '\\n\\n'.join(prompts)\n",
    "    try:\n",
    "        r = curl(prompt)\n",
    "        answer = r.json()['choices'][0]['message']['content']\n",
    "        questions[i]['output'] = answer\n",
    "    except:\n",
    "        pass"
   ]
  },
  {
   "cell_type": "code",
   "execution_count": 12,
   "id": "a6262cd6",
   "metadata": {},
   "outputs": [],
   "source": [
    "import json\n",
    "\n",
    "with open('output-3shot.json', 'w') as fopen:\n",
    "    json.dump(questions, fopen)"
   ]
  },
  {
   "cell_type": "code",
   "execution_count": 13,
   "id": "2e17d26f",
   "metadata": {},
   "outputs": [
    {
     "data": {
      "text/plain": [
       "349"
      ]
     },
     "execution_count": 13,
     "metadata": {},
     "output_type": "execute_result"
    }
   ],
   "source": [
    "filtered = [q for q in questions if 'output' in q]\n",
    "len(filtered)"
   ]
  },
  {
   "cell_type": "code",
   "execution_count": 14,
   "id": "36b05bdd",
   "metadata": {},
   "outputs": [
    {
     "data": {
      "text/plain": [
       "75.64469914040114"
      ]
     },
     "execution_count": 14,
     "metadata": {},
     "output_type": "execute_result"
    }
   ],
   "source": [
    "correct = 0\n",
    "for q in filtered:\n",
    "    correct += q['output'].replace('jawapan:', '').split('.')[0].strip() == q['jawapan']\n",
    "(correct / len(filtered)) * 100"
   ]
  },
  {
   "cell_type": "code",
   "execution_count": null,
   "id": "372cb87c",
   "metadata": {},
   "outputs": [],
   "source": []
  }
 ],
 "metadata": {
  "kernelspec": {
   "display_name": "Python 3 (ipykernel)",
   "language": "python",
   "name": "python3"
  },
  "language_info": {
   "codemirror_mode": {
    "name": "ipython",
    "version": 3
   },
   "file_extension": ".py",
   "mimetype": "text/x-python",
   "name": "python",
   "nbconvert_exporter": "python",
   "pygments_lexer": "ipython3",
   "version": "3.8.10"
  }
 },
 "nbformat": 4,
 "nbformat_minor": 5
}
