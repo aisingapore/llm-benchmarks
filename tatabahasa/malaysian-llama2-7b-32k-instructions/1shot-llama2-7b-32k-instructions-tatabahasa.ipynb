{
 "cells": [
  {
   "cell_type": "code",
   "execution_count": 1,
   "id": "0746741b",
   "metadata": {},
   "outputs": [],
   "source": [
    "# !wget https://raw.githubusercontent.com/mesolitica/malaysian-dataset/master/llm-benchmark/tatabahasabm.tripod.com/quiz-tatabahasa.jsonl"
   ]
  },
  {
   "cell_type": "code",
   "execution_count": 2,
   "id": "a068120b",
   "metadata": {},
   "outputs": [],
   "source": [
    "import os\n",
    "\n",
    "os.environ['CUDA_VISIBLE_DEVICES'] = '1'"
   ]
  },
  {
   "cell_type": "code",
   "execution_count": 3,
   "id": "2cebd1d7",
   "metadata": {},
   "outputs": [],
   "source": [
    "from transformers import AutoTokenizer, AutoModelForCausalLM\n",
    "import torch\n",
    "from transformers.trainer_utils import get_last_checkpoint\n",
    "\n",
    "latest = get_last_checkpoint(\"fpf-7b-instructions-16k-call\")"
   ]
  },
  {
   "cell_type": "code",
   "execution_count": 4,
   "id": "b6d200e3",
   "metadata": {},
   "outputs": [
    {
     "data": {
      "application/vnd.jupyter.widget-view+json": {
       "model_id": "de4c75235beb401f8f3ba906a66a5c55",
       "version_major": 2,
       "version_minor": 0
      },
      "text/plain": [
       "Loading checkpoint shards:   0%|          | 0/3 [00:00<?, ?it/s]"
      ]
     },
     "metadata": {},
     "output_type": "display_data"
    }
   ],
   "source": [
    "tokenizer = AutoTokenizer.from_pretrained(latest)\n",
    "model = AutoModelForCausalLM.from_pretrained(\n",
    "    latest, \n",
    "    use_flash_attention_2 = True, \n",
    "    torch_dtype = torch.float16,\n",
    "    device_map=\"cuda:0\"\n",
    ")"
   ]
  },
  {
   "cell_type": "code",
   "execution_count": 5,
   "id": "7d16b8ef",
   "metadata": {},
   "outputs": [],
   "source": [
    "from tqdm import tqdm\n",
    "import os\n",
    "import random\n",
    "import json"
   ]
  },
  {
   "cell_type": "code",
   "execution_count": 6,
   "id": "a06177bd",
   "metadata": {},
   "outputs": [
    {
     "data": {
      "text/plain": [
       "349"
      ]
     },
     "execution_count": 6,
     "metadata": {},
     "output_type": "execute_result"
    }
   ],
   "source": [
    "questions = []\n",
    "with open('quiz-tatabahasa.jsonl') as fopen:\n",
    "    for no, l in enumerate(fopen):\n",
    "        l = json.loads(l)\n",
    "        soalan = [l['question']]\n",
    "        jawapan = None\n",
    "        for c, k in l['choices'].items():\n",
    "            soalan.append(f\"{c}. {k['text']}\")\n",
    "            if k['answer']:\n",
    "                jawapan = c\n",
    "        \n",
    "        data = {\n",
    "            'no': no,\n",
    "            'objektif': 'Jawab soalan yang diberikan' if l['instruction'] is None else l['instruction'],\n",
    "            'soalan': '\\n'.join(soalan),\n",
    "            'jawapan': jawapan,\n",
    "        }\n",
    "        questions.append(data)\n",
    "len(questions)"
   ]
  },
  {
   "cell_type": "code",
   "execution_count": 7,
   "id": "363cad90",
   "metadata": {},
   "outputs": [],
   "source": [
    "arange = set(range(len(questions)))"
   ]
  },
  {
   "cell_type": "code",
   "execution_count": 8,
   "id": "87bc46c3",
   "metadata": {},
   "outputs": [],
   "source": [
    "def convert_prompt(row, answer = False):\n",
    "    if answer:\n",
    "        prompt = f\"\"\"\n",
    "objektif: {row['objektif']}\n",
    "soalan: {row['soalan']}\n",
    "jawapan: {row['jawapan']}\n",
    "    \"\"\"\n",
    "    else:\n",
    "        prompt = f\"\"\"\n",
    "objektif: {row['objektif']}\n",
    "soalan: {row['soalan']}\n",
    "jawapan:\n",
    "    \"\"\"\n",
    "    return prompt.strip()"
   ]
  },
  {
   "cell_type": "code",
   "execution_count": 9,
   "id": "72405b80",
   "metadata": {},
   "outputs": [],
   "source": [
    "def parse_llama_chat(messages):\n",
    "\n",
    "    system = messages[0]['content']\n",
    "    user_query = messages[-1]['content']\n",
    "\n",
    "    users, assistants = [], []\n",
    "    for q in messages[1:-1]:\n",
    "        if q['role'] == 'user':\n",
    "            users.append(q['content'])\n",
    "        elif q['role'] == 'assistant':\n",
    "            assistants.append(q['content'])\n",
    "\n",
    "    texts = [f'<s>[INST] <<SYS>>\\n{system}\\n<</SYS>>\\n\\n']\n",
    "    for u, a in zip(users, assistants):\n",
    "        texts.append(f'{u.strip()} [/INST] {a.strip()} </s><s>[INST] ')\n",
    "    texts.append(f'{user_query.strip()} [/INST]')\n",
    "    prompt = ''.join(texts).strip()\n",
    "    return prompt"
   ]
  },
  {
   "cell_type": "code",
   "execution_count": 10,
   "id": "a02805aa",
   "metadata": {},
   "outputs": [
    {
     "name": "stderr",
     "output_type": "stream",
     "text": [
      "  0%|          | 0/349 [00:00<?, ?it/s]/tmp/ipykernel_3821167/2564286276.py:3: DeprecationWarning: Sampling from a set deprecated\n",
      "since Python 3.9 and will be removed in a subsequent version.\n",
      "  shots = random.sample(arange - {i}, 1)\n",
      "100%|██████████| 349/349 [02:22<00:00,  2.46it/s]\n"
     ]
    }
   ],
   "source": [
    "for i in tqdm(range(len(questions))):\n",
    "    \n",
    "    shots = random.sample(arange - {i}, 1)\n",
    "    prompts = []\n",
    "    for no, s in enumerate(shots):\n",
    "        prompts.append(f'Contoh soalan {no + 1}\\n' + convert_prompt(questions[s], answer = True))\n",
    "\n",
    "    prompts.append(convert_prompt(questions[i]))\n",
    "    prompt = '\\n\\n'.join(prompts)\n",
    "    messages = [\n",
    "        {'role': 'system', 'content': 'awak adalah AI yang mampu jawab segala soalan'},\n",
    "        {'role': 'user', 'content': prompt}\n",
    "    ]\n",
    "    prompt = parse_llama_chat(messages)\n",
    "    inputs = tokenizer([prompt], return_tensors='pt', add_special_tokens=False).to('cuda')\n",
    "    repeat = []\n",
    "    for _ in range(5):\n",
    "        try:\n",
    "            generate_kwargs = dict(\n",
    "                inputs,\n",
    "                max_new_tokens=100,\n",
    "                top_p=0.95,\n",
    "                top_k=50,\n",
    "                temperature=0.3,\n",
    "                do_sample=True,\n",
    "                num_beams=1,\n",
    "                repetition_penalty=1.05,\n",
    "            )\n",
    "            r = model.generate(**generate_kwargs)\n",
    "            splitted = tokenizer.decode(r[0]).split('[/INST]')[1].strip().replace('</s>', '').replace('.', '').replace(',', '').strip().split()\n",
    "            splitted = [t for t in splitted if len(t) == 1 and t in {'A', 'B', 'C', 'D'}]\n",
    "            repeat.append(splitted[0])\n",
    "    \n",
    "        except Exception as e:\n",
    "            pass\n",
    "    \n",
    "    questions[i]['output'] = repeat"
   ]
  },
  {
   "cell_type": "code",
   "execution_count": 11,
   "id": "c7b84ee9",
   "metadata": {},
   "outputs": [],
   "source": [
    "def most_common(l):\n",
    "    return max(set(l), key=l.count)"
   ]
  },
  {
   "cell_type": "code",
   "execution_count": 12,
   "id": "b7be72e1",
   "metadata": {},
   "outputs": [
    {
     "data": {
      "text/plain": [
       "53.86819484240688"
      ]
     },
     "execution_count": 12,
     "metadata": {},
     "output_type": "execute_result"
    }
   ],
   "source": [
    "filtered = [q for q in questions if 'output' in q and len(q['output'])]\n",
    "correct = 0\n",
    "for q in filtered:\n",
    "    correct += most_common(q['output']) == q['jawapan']\n",
    "(correct / len(filtered)) * 100"
   ]
  },
  {
   "cell_type": "code",
   "execution_count": null,
   "id": "f8250d5a",
   "metadata": {},
   "outputs": [],
   "source": []
  }
 ],
 "metadata": {
  "kernelspec": {
   "display_name": "Python 3 (ipykernel)",
   "language": "python",
   "name": "python3"
  },
  "language_info": {
   "codemirror_mode": {
    "name": "ipython",
    "version": 3
   },
   "file_extension": ".py",
   "mimetype": "text/x-python",
   "name": "python",
   "nbconvert_exporter": "python",
   "pygments_lexer": "ipython3",
   "version": "3.10.12"
  }
 },
 "nbformat": 4,
 "nbformat_minor": 5
}
